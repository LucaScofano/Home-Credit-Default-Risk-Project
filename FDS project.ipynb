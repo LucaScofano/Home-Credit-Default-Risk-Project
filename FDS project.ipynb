{
 "cells": [
  {
   "cell_type": "markdown",
   "metadata": {
    "_uuid": "3087a96d690f55d82f6c301334ca5c296fb4508b"
   },
   "source": [
    "<h1><p style=\"text-align: center;\"> Home Credit Default Risk - FDS project 2019/2020 </p></h1>\n",
    "\n",
    "## Team members:\n",
    " * Simone Marretta\n",
    " * Luca Scofano\n",
    " * Daniele Trappolini"
   ]
  },
  {
   "cell_type": "markdown",
   "metadata": {},
   "source": [
    "------\n"
   ]
  },
  {
   "cell_type": "markdown",
   "metadata": {
    "_uuid": "8d588c1f25daf2de9d84b9b86cb20d98df5ac302"
   },
   "source": [
    "# Introduction"
   ]
  },
  {
   "cell_type": "markdown",
   "metadata": {},
   "source": [
    "### Description of the work"
   ]
  },
  {
   "cell_type": "markdown",
   "metadata": {},
   "source": [
    "We are given 7 different datasets with multiple features each. The **main goal** is to predict whether a new individual will be able to repay the loan or not. We tackled different steps to achieve our goal:  <br>\n",
    "\n",
    " * Importing all the datasets <br><br>\n",
    " \n",
    " * Quick analysis of the main datasets<br><br>\n",
    " \n",
    " * Feature Engineering<br><br>\n",
    " \n",
    " * Cross- validation model<br><br>\n",
    " \n",
    " * Light GBM model and ROC-AUC score"
   ]
  },
  {
   "cell_type": "markdown",
   "metadata": {},
   "source": [
    "### Datasets:"
   ]
  },
  {
   "cell_type": "markdown",
   "metadata": {},
   "source": [
    "<h4><font color=red><li>Application trainset</font></h4>\n",
    "<h4><font color=red><li>Bureau</font></h4>\n",
    "<h4><font color=red><li>Bureau Balance</font></h4>\n",
    "<h4><font color=red><li>Previous Application</font></h4>\n",
    "<h4><font color=red><li>POS cash</font></h4>\n",
    "<h4><font color=red><li>Installment payments</font></h4>\n",
    "<h4><font color=red><li>Credit cards balance</font></h4>"
   ]
  },
  {
   "cell_type": "markdown",
   "metadata": {},
   "source": [
    "------\n"
   ]
  },
  {
   "cell_type": "markdown",
   "metadata": {
    "_uuid": "bf71e3000fcfe57176d1cbbe24097fae518f6f24"
   },
   "source": [
    "# 1. Importing packages"
   ]
  },
  {
   "cell_type": "code",
   "execution_count": 1,
   "metadata": {
    "_cell_guid": "b1076dfc-b9ad-4769-8c92-a6c4dae69d19",
    "_uuid": "8f2839f25d086af736a60e9eeb907d3b93b6e0e5"
   },
   "outputs": [],
   "source": [
    "# numpy and pandas for data manipulation\n",
    "import numpy as np\n",
    "import pandas as pd \n",
    "\n",
    "# sklearn preprocessing for dealing with categorical variables\n",
    "from sklearn.preprocessing import LabelEncoder\n",
    "\n",
    "# Suppress warnings \n",
    "import warnings\n",
    "warnings.filterwarnings('ignore')\n",
    "\n",
    "# matplotlib and seaborn for plotting\n",
    "import matplotlib.pyplot as plt\n",
    "import seaborn as sns\n",
    "\n",
    "# For the classification and the score\n",
    "from lightgbm import LGBMClassifier\n",
    "from sklearn.metrics import roc_auc_score, roc_curve\n",
    "from sklearn.model_selection import KFold, StratifiedKFold"
   ]
  },
  {
   "cell_type": "markdown",
   "metadata": {},
   "source": [
    "------\n"
   ]
  },
  {
   "cell_type": "markdown",
   "metadata": {
    "_uuid": "96bfa9ad20a17c549082a231a25f2ad7910d637e"
   },
   "source": [
    "# 2. Importing Data"
   ]
  },
  {
   "cell_type": "markdown",
   "metadata": {
    "_uuid": "92dc8d3311c854878d6544e256c1873e0c008087"
   },
   "source": [
    "### Application (Training/Test) Dataset"
   ]
  },
  {
   "cell_type": "code",
   "execution_count": 2,
   "metadata": {
    "_uuid": "5d09edbeaea23b434aba4040877a95cd227058ce",
    "scrolled": false
   },
   "outputs": [
    {
     "name": "stdout",
     "output_type": "stream",
     "text": [
      "Training data shape: (307511, 122), Testing data shape: (48744, 121)\n"
     ]
    }
   ],
   "source": [
    "train = pd.read_csv(r'application_train.csv')\n",
    "test = pd.read_csv(r'application_test.csv')\n",
    "print('Training data shape: {}, Testing data shape: {}'.format( train.shape,test.shape))"
   ]
  },
  {
   "cell_type": "markdown",
   "metadata": {},
   "source": [
    "### Bureau Dataset"
   ]
  },
  {
   "cell_type": "code",
   "execution_count": 3,
   "metadata": {},
   "outputs": [],
   "source": [
    "bureau = pd.read_csv(r'bureau.csv')\n",
    "bureau_balance = pd.read_csv(r'bureau_balance.csv')"
   ]
  },
  {
   "cell_type": "markdown",
   "metadata": {},
   "source": [
    "### Previous Application Dataset"
   ]
  },
  {
   "cell_type": "code",
   "execution_count": 4,
   "metadata": {},
   "outputs": [],
   "source": [
    "previous_app = pd.read_csv(r'previous_application.csv')"
   ]
  },
  {
   "cell_type": "markdown",
   "metadata": {},
   "source": [
    "### POS cash balance Dataset"
   ]
  },
  {
   "cell_type": "code",
   "execution_count": 5,
   "metadata": {},
   "outputs": [],
   "source": [
    "pos = pd.read_csv(r'POS_CASH_balance.csv')"
   ]
  },
  {
   "cell_type": "markdown",
   "metadata": {},
   "source": [
    "### Installment Payments Dataset"
   ]
  },
  {
   "cell_type": "code",
   "execution_count": 6,
   "metadata": {},
   "outputs": [],
   "source": [
    "installments_payments = pd.read_csv(r'installments_payments.csv')"
   ]
  },
  {
   "cell_type": "markdown",
   "metadata": {},
   "source": [
    "### Credit Card Dataset"
   ]
  },
  {
   "cell_type": "code",
   "execution_count": 7,
   "metadata": {},
   "outputs": [],
   "source": [
    "cc = pd.read_csv(r'credit_card_balance.csv')"
   ]
  },
  {
   "cell_type": "markdown",
   "metadata": {},
   "source": [
    "------\n"
   ]
  },
  {
   "cell_type": "markdown",
   "metadata": {},
   "source": [
    "# 3. Data Analysis"
   ]
  },
  {
   "cell_type": "markdown",
   "metadata": {},
   "source": [
    "We decide to gradually merge the datasets into one, we'll call it ---> **df**"
   ]
  },
  {
   "cell_type": "code",
   "execution_count": 8,
   "metadata": {},
   "outputs": [],
   "source": [
    "df = train.copy()\n",
    "df = df.append(test)"
   ]
  },
  {
   "cell_type": "code",
   "execution_count": 9,
   "metadata": {},
   "outputs": [
    {
     "data": {
      "text/html": [
       "<div>\n",
       "<style scoped>\n",
       "    .dataframe tbody tr th:only-of-type {\n",
       "        vertical-align: middle;\n",
       "    }\n",
       "\n",
       "    .dataframe tbody tr th {\n",
       "        vertical-align: top;\n",
       "    }\n",
       "\n",
       "    .dataframe thead th {\n",
       "        text-align: right;\n",
       "    }\n",
       "</style>\n",
       "<table border=\"1\" class=\"dataframe\">\n",
       "  <thead>\n",
       "    <tr style=\"text-align: right;\">\n",
       "      <th></th>\n",
       "      <th>AMT_ANNUITY</th>\n",
       "      <th>AMT_CREDIT</th>\n",
       "      <th>AMT_GOODS_PRICE</th>\n",
       "      <th>AMT_INCOME_TOTAL</th>\n",
       "      <th>AMT_REQ_CREDIT_BUREAU_DAY</th>\n",
       "      <th>AMT_REQ_CREDIT_BUREAU_HOUR</th>\n",
       "      <th>AMT_REQ_CREDIT_BUREAU_MON</th>\n",
       "      <th>AMT_REQ_CREDIT_BUREAU_QRT</th>\n",
       "      <th>AMT_REQ_CREDIT_BUREAU_WEEK</th>\n",
       "      <th>AMT_REQ_CREDIT_BUREAU_YEAR</th>\n",
       "      <th>APARTMENTS_AVG</th>\n",
       "      <th>APARTMENTS_MEDI</th>\n",
       "      <th>APARTMENTS_MODE</th>\n",
       "      <th>BASEMENTAREA_AVG</th>\n",
       "      <th>BASEMENTAREA_MEDI</th>\n",
       "      <th>BASEMENTAREA_MODE</th>\n",
       "      <th>CNT_CHILDREN</th>\n",
       "      <th>CNT_FAM_MEMBERS</th>\n",
       "      <th>COMMONAREA_AVG</th>\n",
       "      <th>COMMONAREA_MEDI</th>\n",
       "      <th>COMMONAREA_MODE</th>\n",
       "      <th>DAYS_BIRTH</th>\n",
       "      <th>DAYS_EMPLOYED</th>\n",
       "      <th>DAYS_ID_PUBLISH</th>\n",
       "      <th>DAYS_LAST_PHONE_CHANGE</th>\n",
       "      <th>DAYS_REGISTRATION</th>\n",
       "      <th>DEF_30_CNT_SOCIAL_CIRCLE</th>\n",
       "      <th>DEF_60_CNT_SOCIAL_CIRCLE</th>\n",
       "      <th>ELEVATORS_AVG</th>\n",
       "      <th>ELEVATORS_MEDI</th>\n",
       "      <th>ELEVATORS_MODE</th>\n",
       "      <th>ENTRANCES_AVG</th>\n",
       "      <th>ENTRANCES_MEDI</th>\n",
       "      <th>ENTRANCES_MODE</th>\n",
       "      <th>EXT_SOURCE_1</th>\n",
       "      <th>EXT_SOURCE_2</th>\n",
       "      <th>EXT_SOURCE_3</th>\n",
       "      <th>FLAG_CONT_MOBILE</th>\n",
       "      <th>FLAG_DOCUMENT_10</th>\n",
       "      <th>FLAG_DOCUMENT_11</th>\n",
       "      <th>FLAG_DOCUMENT_12</th>\n",
       "      <th>FLAG_DOCUMENT_13</th>\n",
       "      <th>FLAG_DOCUMENT_14</th>\n",
       "      <th>FLAG_DOCUMENT_15</th>\n",
       "      <th>FLAG_DOCUMENT_16</th>\n",
       "      <th>FLAG_DOCUMENT_17</th>\n",
       "      <th>FLAG_DOCUMENT_18</th>\n",
       "      <th>FLAG_DOCUMENT_19</th>\n",
       "      <th>FLAG_DOCUMENT_2</th>\n",
       "      <th>FLAG_DOCUMENT_20</th>\n",
       "      <th>FLAG_DOCUMENT_21</th>\n",
       "      <th>FLAG_DOCUMENT_3</th>\n",
       "      <th>FLAG_DOCUMENT_4</th>\n",
       "      <th>FLAG_DOCUMENT_5</th>\n",
       "      <th>FLAG_DOCUMENT_6</th>\n",
       "      <th>FLAG_DOCUMENT_7</th>\n",
       "      <th>FLAG_DOCUMENT_8</th>\n",
       "      <th>FLAG_DOCUMENT_9</th>\n",
       "      <th>FLAG_EMAIL</th>\n",
       "      <th>FLAG_EMP_PHONE</th>\n",
       "      <th>FLAG_MOBIL</th>\n",
       "      <th>FLAG_PHONE</th>\n",
       "      <th>FLAG_WORK_PHONE</th>\n",
       "      <th>FLOORSMAX_AVG</th>\n",
       "      <th>FLOORSMAX_MEDI</th>\n",
       "      <th>FLOORSMAX_MODE</th>\n",
       "      <th>FLOORSMIN_AVG</th>\n",
       "      <th>FLOORSMIN_MEDI</th>\n",
       "      <th>FLOORSMIN_MODE</th>\n",
       "      <th>HOUR_APPR_PROCESS_START</th>\n",
       "      <th>LANDAREA_AVG</th>\n",
       "      <th>LANDAREA_MEDI</th>\n",
       "      <th>LANDAREA_MODE</th>\n",
       "      <th>LIVE_CITY_NOT_WORK_CITY</th>\n",
       "      <th>LIVE_REGION_NOT_WORK_REGION</th>\n",
       "      <th>LIVINGAPARTMENTS_AVG</th>\n",
       "      <th>LIVINGAPARTMENTS_MEDI</th>\n",
       "      <th>LIVINGAPARTMENTS_MODE</th>\n",
       "      <th>LIVINGAREA_AVG</th>\n",
       "      <th>LIVINGAREA_MEDI</th>\n",
       "      <th>LIVINGAREA_MODE</th>\n",
       "      <th>NONLIVINGAPARTMENTS_AVG</th>\n",
       "      <th>NONLIVINGAPARTMENTS_MEDI</th>\n",
       "      <th>NONLIVINGAPARTMENTS_MODE</th>\n",
       "      <th>NONLIVINGAREA_AVG</th>\n",
       "      <th>NONLIVINGAREA_MEDI</th>\n",
       "      <th>NONLIVINGAREA_MODE</th>\n",
       "      <th>OBS_30_CNT_SOCIAL_CIRCLE</th>\n",
       "      <th>OBS_60_CNT_SOCIAL_CIRCLE</th>\n",
       "      <th>OWN_CAR_AGE</th>\n",
       "      <th>REGION_POPULATION_RELATIVE</th>\n",
       "      <th>REGION_RATING_CLIENT</th>\n",
       "      <th>REGION_RATING_CLIENT_W_CITY</th>\n",
       "      <th>REG_CITY_NOT_LIVE_CITY</th>\n",
       "      <th>REG_CITY_NOT_WORK_CITY</th>\n",
       "      <th>REG_REGION_NOT_LIVE_REGION</th>\n",
       "      <th>REG_REGION_NOT_WORK_REGION</th>\n",
       "      <th>SK_ID_CURR</th>\n",
       "      <th>TARGET</th>\n",
       "      <th>TOTALAREA_MODE</th>\n",
       "      <th>YEARS_BEGINEXPLUATATION_AVG</th>\n",
       "      <th>YEARS_BEGINEXPLUATATION_MEDI</th>\n",
       "      <th>YEARS_BEGINEXPLUATATION_MODE</th>\n",
       "      <th>YEARS_BUILD_AVG</th>\n",
       "      <th>YEARS_BUILD_MEDI</th>\n",
       "      <th>YEARS_BUILD_MODE</th>\n",
       "    </tr>\n",
       "  </thead>\n",
       "  <tbody>\n",
       "    <tr>\n",
       "      <th>count</th>\n",
       "      <td>356219.000000</td>\n",
       "      <td>3.562550e+05</td>\n",
       "      <td>3.559770e+05</td>\n",
       "      <td>3.562550e+05</td>\n",
       "      <td>308687.000000</td>\n",
       "      <td>308687.000000</td>\n",
       "      <td>308687.000000</td>\n",
       "      <td>308687.000000</td>\n",
       "      <td>308687.000000</td>\n",
       "      <td>308687.000000</td>\n",
       "      <td>176307.000000</td>\n",
       "      <td>176307.000000</td>\n",
       "      <td>176307.000000</td>\n",
       "      <td>148671.000000</td>\n",
       "      <td>148671.000000</td>\n",
       "      <td>148671.000000</td>\n",
       "      <td>356255.000000</td>\n",
       "      <td>356253.000000</td>\n",
       "      <td>107895.000000</td>\n",
       "      <td>107895.000000</td>\n",
       "      <td>107895.000000</td>\n",
       "      <td>356255.000000</td>\n",
       "      <td>356255.000000</td>\n",
       "      <td>356255.000000</td>\n",
       "      <td>356254.000000</td>\n",
       "      <td>356255.000000</td>\n",
       "      <td>355205.000000</td>\n",
       "      <td>355205.000000</td>\n",
       "      <td>167175.000000</td>\n",
       "      <td>167175.000000</td>\n",
       "      <td>167175.000000</td>\n",
       "      <td>177848.000000</td>\n",
       "      <td>177848.000000</td>\n",
       "      <td>177848.000000</td>\n",
       "      <td>162345.000000</td>\n",
       "      <td>3.555870e+05</td>\n",
       "      <td>286622.000000</td>\n",
       "      <td>356255.000000</td>\n",
       "      <td>356255.000000</td>\n",
       "      <td>356255.000000</td>\n",
       "      <td>356255.000000</td>\n",
       "      <td>356255.000000</td>\n",
       "      <td>356255.000000</td>\n",
       "      <td>356255.000000</td>\n",
       "      <td>356255.000000</td>\n",
       "      <td>356255.00000</td>\n",
       "      <td>356255.000000</td>\n",
       "      <td>356255.000000</td>\n",
       "      <td>356255.000000</td>\n",
       "      <td>356255.000000</td>\n",
       "      <td>356255.000000</td>\n",
       "      <td>356255.000000</td>\n",
       "      <td>356255.000000</td>\n",
       "      <td>356255.000000</td>\n",
       "      <td>356255.000000</td>\n",
       "      <td>356255.000000</td>\n",
       "      <td>356255.000000</td>\n",
       "      <td>356255.000000</td>\n",
       "      <td>356255.000000</td>\n",
       "      <td>356255.000000</td>\n",
       "      <td>356255.000000</td>\n",
       "      <td>356255.000000</td>\n",
       "      <td>356255.000000</td>\n",
       "      <td>179914.000000</td>\n",
       "      <td>179914.000000</td>\n",
       "      <td>179914.000000</td>\n",
       "      <td>115147.000000</td>\n",
       "      <td>115147.000000</td>\n",
       "      <td>115147.000000</td>\n",
       "      <td>356255.000000</td>\n",
       "      <td>145411.000000</td>\n",
       "      <td>145411.000000</td>\n",
       "      <td>145411.000000</td>\n",
       "      <td>356255.000000</td>\n",
       "      <td>356255.000000</td>\n",
       "      <td>113276.000000</td>\n",
       "      <td>113276.000000</td>\n",
       "      <td>113276.000000</td>\n",
       "      <td>178353.000000</td>\n",
       "      <td>178353.000000</td>\n",
       "      <td>178353.000000</td>\n",
       "      <td>109394.000000</td>\n",
       "      <td>109394.000000</td>\n",
       "      <td>109394.000000</td>\n",
       "      <td>160489.000000</td>\n",
       "      <td>160489.000000</td>\n",
       "      <td>160489.000000</td>\n",
       "      <td>355205.000000</td>\n",
       "      <td>355205.000000</td>\n",
       "      <td>121014.000000</td>\n",
       "      <td>356255.000000</td>\n",
       "      <td>356255.000000</td>\n",
       "      <td>356255.000000</td>\n",
       "      <td>356255.000000</td>\n",
       "      <td>356255.000000</td>\n",
       "      <td>356255.000000</td>\n",
       "      <td>356255.000000</td>\n",
       "      <td>356255.000000</td>\n",
       "      <td>307511.000000</td>\n",
       "      <td>185200.000000</td>\n",
       "      <td>183392.000000</td>\n",
       "      <td>183392.000000</td>\n",
       "      <td>183392.000000</td>\n",
       "      <td>119949.000000</td>\n",
       "      <td>119949.000000</td>\n",
       "      <td>119949.000000</td>\n",
       "    </tr>\n",
       "    <tr>\n",
       "      <th>mean</th>\n",
       "      <td>27425.560657</td>\n",
       "      <td>5.877674e+05</td>\n",
       "      <td>5.280200e+05</td>\n",
       "      <td>1.701161e+05</td>\n",
       "      <td>0.006281</td>\n",
       "      <td>0.005808</td>\n",
       "      <td>0.231697</td>\n",
       "      <td>0.304399</td>\n",
       "      <td>0.029995</td>\n",
       "      <td>1.911564</td>\n",
       "      <td>0.118138</td>\n",
       "      <td>0.118549</td>\n",
       "      <td>0.114914</td>\n",
       "      <td>0.088673</td>\n",
       "      <td>0.088178</td>\n",
       "      <td>0.087750</td>\n",
       "      <td>0.414316</td>\n",
       "      <td>2.151858</td>\n",
       "      <td>0.045045</td>\n",
       "      <td>0.044994</td>\n",
       "      <td>0.042930</td>\n",
       "      <td>-16041.248841</td>\n",
       "      <td>64317.231413</td>\n",
       "      <td>-3002.071163</td>\n",
       "      <td>-978.580852</td>\n",
       "      <td>-4983.593527</td>\n",
       "      <td>0.143452</td>\n",
       "      <td>0.100198</td>\n",
       "      <td>0.079819</td>\n",
       "      <td>0.078930</td>\n",
       "      <td>0.075346</td>\n",
       "      <td>0.150015</td>\n",
       "      <td>0.149494</td>\n",
       "      <td>0.145471</td>\n",
       "      <td>0.501965</td>\n",
       "      <td>5.148900e-01</td>\n",
       "      <td>0.509350</td>\n",
       "      <td>0.998170</td>\n",
       "      <td>0.000020</td>\n",
       "      <td>0.003537</td>\n",
       "      <td>0.000006</td>\n",
       "      <td>0.003043</td>\n",
       "      <td>0.002535</td>\n",
       "      <td>0.001044</td>\n",
       "      <td>0.008570</td>\n",
       "      <td>0.00023</td>\n",
       "      <td>0.007231</td>\n",
       "      <td>0.000514</td>\n",
       "      <td>0.000036</td>\n",
       "      <td>0.000438</td>\n",
       "      <td>0.000289</td>\n",
       "      <td>0.720504</td>\n",
       "      <td>0.000084</td>\n",
       "      <td>0.015065</td>\n",
       "      <td>0.087976</td>\n",
       "      <td>0.000171</td>\n",
       "      <td>0.082346</td>\n",
       "      <td>0.003977</td>\n",
       "      <td>0.071213</td>\n",
       "      <td>0.818498</td>\n",
       "      <td>0.999994</td>\n",
       "      <td>0.278612</td>\n",
       "      <td>0.200098</td>\n",
       "      <td>0.227331</td>\n",
       "      <td>0.226922</td>\n",
       "      <td>0.223315</td>\n",
       "      <td>0.232817</td>\n",
       "      <td>0.232504</td>\n",
       "      <td>0.228878</td>\n",
       "      <td>12.055749</td>\n",
       "      <td>0.066454</td>\n",
       "      <td>0.067296</td>\n",
       "      <td>0.065092</td>\n",
       "      <td>0.178824</td>\n",
       "      <td>0.040847</td>\n",
       "      <td>0.101495</td>\n",
       "      <td>0.102674</td>\n",
       "      <td>0.106382</td>\n",
       "      <td>0.108089</td>\n",
       "      <td>0.109279</td>\n",
       "      <td>0.106641</td>\n",
       "      <td>0.008868</td>\n",
       "      <td>0.008697</td>\n",
       "      <td>0.008116</td>\n",
       "      <td>0.028503</td>\n",
       "      <td>0.028386</td>\n",
       "      <td>0.027183</td>\n",
       "      <td>1.425729</td>\n",
       "      <td>1.409468</td>\n",
       "      <td>12.023741</td>\n",
       "      <td>0.020917</td>\n",
       "      <td>2.050506</td>\n",
       "      <td>2.028932</td>\n",
       "      <td>0.078076</td>\n",
       "      <td>0.229661</td>\n",
       "      <td>0.015649</td>\n",
       "      <td>0.051371</td>\n",
       "      <td>278128.000000</td>\n",
       "      <td>0.080729</td>\n",
       "      <td>0.103193</td>\n",
       "      <td>0.977889</td>\n",
       "      <td>0.977903</td>\n",
       "      <td>0.977239</td>\n",
       "      <td>0.752283</td>\n",
       "      <td>0.755548</td>\n",
       "      <td>0.759452</td>\n",
       "    </tr>\n",
       "    <tr>\n",
       "      <th>std</th>\n",
       "      <td>14732.808190</td>\n",
       "      <td>3.986237e+05</td>\n",
       "      <td>3.660650e+05</td>\n",
       "      <td>2.235068e+05</td>\n",
       "      <td>0.104250</td>\n",
       "      <td>0.079736</td>\n",
       "      <td>0.855949</td>\n",
       "      <td>0.786915</td>\n",
       "      <td>0.191374</td>\n",
       "      <td>1.865338</td>\n",
       "      <td>0.108954</td>\n",
       "      <td>0.109824</td>\n",
       "      <td>0.108745</td>\n",
       "      <td>0.082312</td>\n",
       "      <td>0.082017</td>\n",
       "      <td>0.084076</td>\n",
       "      <td>0.720378</td>\n",
       "      <td>0.907937</td>\n",
       "      <td>0.077045</td>\n",
       "      <td>0.077140</td>\n",
       "      <td>0.075437</td>\n",
       "      <td>4358.803980</td>\n",
       "      <td>141705.532576</td>\n",
       "      <td>1517.901735</td>\n",
       "      <td>835.063902</td>\n",
       "      <td>3526.968986</td>\n",
       "      <td>0.456579</td>\n",
       "      <td>0.368259</td>\n",
       "      <td>0.135249</td>\n",
       "      <td>0.135133</td>\n",
       "      <td>0.133025</td>\n",
       "      <td>0.100139</td>\n",
       "      <td>0.100450</td>\n",
       "      <td>0.101088</td>\n",
       "      <td>0.210045</td>\n",
       "      <td>1.897531e-01</td>\n",
       "      <td>0.194141</td>\n",
       "      <td>0.042741</td>\n",
       "      <td>0.004433</td>\n",
       "      <td>0.059366</td>\n",
       "      <td>0.002369</td>\n",
       "      <td>0.055077</td>\n",
       "      <td>0.050282</td>\n",
       "      <td>0.032297</td>\n",
       "      <td>0.092175</td>\n",
       "      <td>0.01517</td>\n",
       "      <td>0.084726</td>\n",
       "      <td>0.022659</td>\n",
       "      <td>0.006041</td>\n",
       "      <td>0.020921</td>\n",
       "      <td>0.017001</td>\n",
       "      <td>0.448752</td>\n",
       "      <td>0.009176</td>\n",
       "      <td>0.121812</td>\n",
       "      <td>0.283261</td>\n",
       "      <td>0.013084</td>\n",
       "      <td>0.274891</td>\n",
       "      <td>0.062942</td>\n",
       "      <td>0.257181</td>\n",
       "      <td>0.385434</td>\n",
       "      <td>0.002369</td>\n",
       "      <td>0.448317</td>\n",
       "      <td>0.400074</td>\n",
       "      <td>0.145051</td>\n",
       "      <td>0.145453</td>\n",
       "      <td>0.144126</td>\n",
       "      <td>0.161909</td>\n",
       "      <td>0.162419</td>\n",
       "      <td>0.161725</td>\n",
       "      <td>3.267576</td>\n",
       "      <td>0.081287</td>\n",
       "      <td>0.082267</td>\n",
       "      <td>0.081911</td>\n",
       "      <td>0.383206</td>\n",
       "      <td>0.197936</td>\n",
       "      <td>0.093418</td>\n",
       "      <td>0.094541</td>\n",
       "      <td>0.098779</td>\n",
       "      <td>0.111194</td>\n",
       "      <td>0.112881</td>\n",
       "      <td>0.112555</td>\n",
       "      <td>0.047876</td>\n",
       "      <td>0.047519</td>\n",
       "      <td>0.046330</td>\n",
       "      <td>0.069880</td>\n",
       "      <td>0.070574</td>\n",
       "      <td>0.070723</td>\n",
       "      <td>2.599914</td>\n",
       "      <td>2.577724</td>\n",
       "      <td>11.880848</td>\n",
       "      <td>0.013915</td>\n",
       "      <td>0.510947</td>\n",
       "      <td>0.504586</td>\n",
       "      <td>0.268292</td>\n",
       "      <td>0.420616</td>\n",
       "      <td>0.124113</td>\n",
       "      <td>0.220753</td>\n",
       "      <td>102842.104413</td>\n",
       "      <td>0.272419</td>\n",
       "      <td>0.108041</td>\n",
       "      <td>0.057929</td>\n",
       "      <td>0.058562</td>\n",
       "      <td>0.063165</td>\n",
       "      <td>0.113267</td>\n",
       "      <td>0.112057</td>\n",
       "      <td>0.110112</td>\n",
       "    </tr>\n",
       "    <tr>\n",
       "      <th>min</th>\n",
       "      <td>1615.500000</td>\n",
       "      <td>4.500000e+04</td>\n",
       "      <td>4.050000e+04</td>\n",
       "      <td>2.565000e+04</td>\n",
       "      <td>0.000000</td>\n",
       "      <td>0.000000</td>\n",
       "      <td>0.000000</td>\n",
       "      <td>0.000000</td>\n",
       "      <td>0.000000</td>\n",
       "      <td>0.000000</td>\n",
       "      <td>0.000000</td>\n",
       "      <td>0.000000</td>\n",
       "      <td>0.000000</td>\n",
       "      <td>0.000000</td>\n",
       "      <td>0.000000</td>\n",
       "      <td>0.000000</td>\n",
       "      <td>0.000000</td>\n",
       "      <td>1.000000</td>\n",
       "      <td>0.000000</td>\n",
       "      <td>0.000000</td>\n",
       "      <td>0.000000</td>\n",
       "      <td>-25229.000000</td>\n",
       "      <td>-17912.000000</td>\n",
       "      <td>-7197.000000</td>\n",
       "      <td>-4361.000000</td>\n",
       "      <td>-24672.000000</td>\n",
       "      <td>0.000000</td>\n",
       "      <td>0.000000</td>\n",
       "      <td>0.000000</td>\n",
       "      <td>0.000000</td>\n",
       "      <td>0.000000</td>\n",
       "      <td>0.000000</td>\n",
       "      <td>0.000000</td>\n",
       "      <td>0.000000</td>\n",
       "      <td>0.013458</td>\n",
       "      <td>8.173617e-08</td>\n",
       "      <td>0.000527</td>\n",
       "      <td>0.000000</td>\n",
       "      <td>0.000000</td>\n",
       "      <td>0.000000</td>\n",
       "      <td>0.000000</td>\n",
       "      <td>0.000000</td>\n",
       "      <td>0.000000</td>\n",
       "      <td>0.000000</td>\n",
       "      <td>0.000000</td>\n",
       "      <td>0.00000</td>\n",
       "      <td>0.000000</td>\n",
       "      <td>0.000000</td>\n",
       "      <td>0.000000</td>\n",
       "      <td>0.000000</td>\n",
       "      <td>0.000000</td>\n",
       "      <td>0.000000</td>\n",
       "      <td>0.000000</td>\n",
       "      <td>0.000000</td>\n",
       "      <td>0.000000</td>\n",
       "      <td>0.000000</td>\n",
       "      <td>0.000000</td>\n",
       "      <td>0.000000</td>\n",
       "      <td>0.000000</td>\n",
       "      <td>0.000000</td>\n",
       "      <td>0.000000</td>\n",
       "      <td>0.000000</td>\n",
       "      <td>0.000000</td>\n",
       "      <td>0.000000</td>\n",
       "      <td>0.000000</td>\n",
       "      <td>0.000000</td>\n",
       "      <td>0.000000</td>\n",
       "      <td>0.000000</td>\n",
       "      <td>0.000000</td>\n",
       "      <td>0.000000</td>\n",
       "      <td>0.000000</td>\n",
       "      <td>0.000000</td>\n",
       "      <td>0.000000</td>\n",
       "      <td>0.000000</td>\n",
       "      <td>0.000000</td>\n",
       "      <td>0.000000</td>\n",
       "      <td>0.000000</td>\n",
       "      <td>0.000000</td>\n",
       "      <td>0.000000</td>\n",
       "      <td>0.000000</td>\n",
       "      <td>0.000000</td>\n",
       "      <td>0.000000</td>\n",
       "      <td>0.000000</td>\n",
       "      <td>0.000000</td>\n",
       "      <td>0.000000</td>\n",
       "      <td>0.000000</td>\n",
       "      <td>0.000000</td>\n",
       "      <td>0.000000</td>\n",
       "      <td>0.000000</td>\n",
       "      <td>0.000000</td>\n",
       "      <td>0.000253</td>\n",
       "      <td>1.000000</td>\n",
       "      <td>-1.000000</td>\n",
       "      <td>0.000000</td>\n",
       "      <td>0.000000</td>\n",
       "      <td>0.000000</td>\n",
       "      <td>0.000000</td>\n",
       "      <td>100001.000000</td>\n",
       "      <td>0.000000</td>\n",
       "      <td>0.000000</td>\n",
       "      <td>0.000000</td>\n",
       "      <td>0.000000</td>\n",
       "      <td>0.000000</td>\n",
       "      <td>0.000000</td>\n",
       "      <td>0.000000</td>\n",
       "      <td>0.000000</td>\n",
       "    </tr>\n",
       "    <tr>\n",
       "      <th>25%</th>\n",
       "      <td>16731.000000</td>\n",
       "      <td>2.700000e+05</td>\n",
       "      <td>2.340000e+05</td>\n",
       "      <td>1.125000e+05</td>\n",
       "      <td>0.000000</td>\n",
       "      <td>0.000000</td>\n",
       "      <td>0.000000</td>\n",
       "      <td>0.000000</td>\n",
       "      <td>0.000000</td>\n",
       "      <td>0.000000</td>\n",
       "      <td>0.057700</td>\n",
       "      <td>0.058300</td>\n",
       "      <td>0.052500</td>\n",
       "      <td>0.044500</td>\n",
       "      <td>0.044100</td>\n",
       "      <td>0.041000</td>\n",
       "      <td>0.000000</td>\n",
       "      <td>2.000000</td>\n",
       "      <td>0.007900</td>\n",
       "      <td>0.007900</td>\n",
       "      <td>0.007300</td>\n",
       "      <td>-19676.000000</td>\n",
       "      <td>-2781.000000</td>\n",
       "      <td>-4318.000000</td>\n",
       "      <td>-1592.000000</td>\n",
       "      <td>-7477.000000</td>\n",
       "      <td>0.000000</td>\n",
       "      <td>0.000000</td>\n",
       "      <td>0.000000</td>\n",
       "      <td>0.000000</td>\n",
       "      <td>0.000000</td>\n",
       "      <td>0.069000</td>\n",
       "      <td>0.069000</td>\n",
       "      <td>0.069000</td>\n",
       "      <td>0.335503</td>\n",
       "      <td>3.949551e-01</td>\n",
       "      <td>0.368969</td>\n",
       "      <td>1.000000</td>\n",
       "      <td>0.000000</td>\n",
       "      <td>0.000000</td>\n",
       "      <td>0.000000</td>\n",
       "      <td>0.000000</td>\n",
       "      <td>0.000000</td>\n",
       "      <td>0.000000</td>\n",
       "      <td>0.000000</td>\n",
       "      <td>0.00000</td>\n",
       "      <td>0.000000</td>\n",
       "      <td>0.000000</td>\n",
       "      <td>0.000000</td>\n",
       "      <td>0.000000</td>\n",
       "      <td>0.000000</td>\n",
       "      <td>0.000000</td>\n",
       "      <td>0.000000</td>\n",
       "      <td>0.000000</td>\n",
       "      <td>0.000000</td>\n",
       "      <td>0.000000</td>\n",
       "      <td>0.000000</td>\n",
       "      <td>0.000000</td>\n",
       "      <td>0.000000</td>\n",
       "      <td>1.000000</td>\n",
       "      <td>1.000000</td>\n",
       "      <td>0.000000</td>\n",
       "      <td>0.000000</td>\n",
       "      <td>0.166700</td>\n",
       "      <td>0.166700</td>\n",
       "      <td>0.166700</td>\n",
       "      <td>0.083300</td>\n",
       "      <td>0.083300</td>\n",
       "      <td>0.083300</td>\n",
       "      <td>10.000000</td>\n",
       "      <td>0.018700</td>\n",
       "      <td>0.018800</td>\n",
       "      <td>0.016600</td>\n",
       "      <td>0.000000</td>\n",
       "      <td>0.000000</td>\n",
       "      <td>0.050400</td>\n",
       "      <td>0.051300</td>\n",
       "      <td>0.054200</td>\n",
       "      <td>0.045800</td>\n",
       "      <td>0.046200</td>\n",
       "      <td>0.043100</td>\n",
       "      <td>0.000000</td>\n",
       "      <td>0.000000</td>\n",
       "      <td>0.000000</td>\n",
       "      <td>0.000000</td>\n",
       "      <td>0.000000</td>\n",
       "      <td>0.000000</td>\n",
       "      <td>0.000000</td>\n",
       "      <td>0.000000</td>\n",
       "      <td>5.000000</td>\n",
       "      <td>0.010006</td>\n",
       "      <td>2.000000</td>\n",
       "      <td>2.000000</td>\n",
       "      <td>0.000000</td>\n",
       "      <td>0.000000</td>\n",
       "      <td>0.000000</td>\n",
       "      <td>0.000000</td>\n",
       "      <td>189064.500000</td>\n",
       "      <td>0.000000</td>\n",
       "      <td>0.041500</td>\n",
       "      <td>0.976700</td>\n",
       "      <td>0.976700</td>\n",
       "      <td>0.976700</td>\n",
       "      <td>0.687200</td>\n",
       "      <td>0.691400</td>\n",
       "      <td>0.699400</td>\n",
       "    </tr>\n",
       "    <tr>\n",
       "      <th>50%</th>\n",
       "      <td>25078.500000</td>\n",
       "      <td>5.002110e+05</td>\n",
       "      <td>4.500000e+05</td>\n",
       "      <td>1.530000e+05</td>\n",
       "      <td>0.000000</td>\n",
       "      <td>0.000000</td>\n",
       "      <td>0.000000</td>\n",
       "      <td>0.000000</td>\n",
       "      <td>0.000000</td>\n",
       "      <td>1.000000</td>\n",
       "      <td>0.088000</td>\n",
       "      <td>0.087400</td>\n",
       "      <td>0.084000</td>\n",
       "      <td>0.076500</td>\n",
       "      <td>0.076100</td>\n",
       "      <td>0.074900</td>\n",
       "      <td>0.000000</td>\n",
       "      <td>2.000000</td>\n",
       "      <td>0.021300</td>\n",
       "      <td>0.021000</td>\n",
       "      <td>0.019200</td>\n",
       "      <td>-15755.000000</td>\n",
       "      <td>-1224.000000</td>\n",
       "      <td>-3252.000000</td>\n",
       "      <td>-771.000000</td>\n",
       "      <td>-4502.000000</td>\n",
       "      <td>0.000000</td>\n",
       "      <td>0.000000</td>\n",
       "      <td>0.000000</td>\n",
       "      <td>0.000000</td>\n",
       "      <td>0.000000</td>\n",
       "      <td>0.137900</td>\n",
       "      <td>0.137900</td>\n",
       "      <td>0.137900</td>\n",
       "      <td>0.506155</td>\n",
       "      <td>5.648491e-01</td>\n",
       "      <td>0.533482</td>\n",
       "      <td>1.000000</td>\n",
       "      <td>0.000000</td>\n",
       "      <td>0.000000</td>\n",
       "      <td>0.000000</td>\n",
       "      <td>0.000000</td>\n",
       "      <td>0.000000</td>\n",
       "      <td>0.000000</td>\n",
       "      <td>0.000000</td>\n",
       "      <td>0.00000</td>\n",
       "      <td>0.000000</td>\n",
       "      <td>0.000000</td>\n",
       "      <td>0.000000</td>\n",
       "      <td>0.000000</td>\n",
       "      <td>0.000000</td>\n",
       "      <td>1.000000</td>\n",
       "      <td>0.000000</td>\n",
       "      <td>0.000000</td>\n",
       "      <td>0.000000</td>\n",
       "      <td>0.000000</td>\n",
       "      <td>0.000000</td>\n",
       "      <td>0.000000</td>\n",
       "      <td>0.000000</td>\n",
       "      <td>1.000000</td>\n",
       "      <td>1.000000</td>\n",
       "      <td>0.000000</td>\n",
       "      <td>0.000000</td>\n",
       "      <td>0.166700</td>\n",
       "      <td>0.166700</td>\n",
       "      <td>0.166700</td>\n",
       "      <td>0.208300</td>\n",
       "      <td>0.208300</td>\n",
       "      <td>0.208300</td>\n",
       "      <td>12.000000</td>\n",
       "      <td>0.048200</td>\n",
       "      <td>0.048700</td>\n",
       "      <td>0.045900</td>\n",
       "      <td>0.000000</td>\n",
       "      <td>0.000000</td>\n",
       "      <td>0.075600</td>\n",
       "      <td>0.077000</td>\n",
       "      <td>0.077100</td>\n",
       "      <td>0.074900</td>\n",
       "      <td>0.075400</td>\n",
       "      <td>0.073300</td>\n",
       "      <td>0.000000</td>\n",
       "      <td>0.000000</td>\n",
       "      <td>0.000000</td>\n",
       "      <td>0.003600</td>\n",
       "      <td>0.003100</td>\n",
       "      <td>0.001100</td>\n",
       "      <td>0.000000</td>\n",
       "      <td>0.000000</td>\n",
       "      <td>9.000000</td>\n",
       "      <td>0.018850</td>\n",
       "      <td>2.000000</td>\n",
       "      <td>2.000000</td>\n",
       "      <td>0.000000</td>\n",
       "      <td>0.000000</td>\n",
       "      <td>0.000000</td>\n",
       "      <td>0.000000</td>\n",
       "      <td>278128.000000</td>\n",
       "      <td>0.000000</td>\n",
       "      <td>0.069000</td>\n",
       "      <td>0.981600</td>\n",
       "      <td>0.981600</td>\n",
       "      <td>0.981600</td>\n",
       "      <td>0.755200</td>\n",
       "      <td>0.758500</td>\n",
       "      <td>0.764800</td>\n",
       "    </tr>\n",
       "    <tr>\n",
       "      <th>75%</th>\n",
       "      <td>34960.500000</td>\n",
       "      <td>7.975575e+05</td>\n",
       "      <td>6.750000e+05</td>\n",
       "      <td>2.025000e+05</td>\n",
       "      <td>0.000000</td>\n",
       "      <td>0.000000</td>\n",
       "      <td>0.000000</td>\n",
       "      <td>0.000000</td>\n",
       "      <td>0.000000</td>\n",
       "      <td>3.000000</td>\n",
       "      <td>0.148500</td>\n",
       "      <td>0.149400</td>\n",
       "      <td>0.146000</td>\n",
       "      <td>0.112300</td>\n",
       "      <td>0.111800</td>\n",
       "      <td>0.112700</td>\n",
       "      <td>1.000000</td>\n",
       "      <td>3.000000</td>\n",
       "      <td>0.051900</td>\n",
       "      <td>0.051800</td>\n",
       "      <td>0.049300</td>\n",
       "      <td>-12425.000000</td>\n",
       "      <td>-290.000000</td>\n",
       "      <td>-1717.000000</td>\n",
       "      <td>-286.000000</td>\n",
       "      <td>-1995.000000</td>\n",
       "      <td>0.000000</td>\n",
       "      <td>0.000000</td>\n",
       "      <td>0.120000</td>\n",
       "      <td>0.120000</td>\n",
       "      <td>0.120800</td>\n",
       "      <td>0.206900</td>\n",
       "      <td>0.206900</td>\n",
       "      <td>0.206900</td>\n",
       "      <td>0.673344</td>\n",
       "      <td>6.629285e-01</td>\n",
       "      <td>0.665855</td>\n",
       "      <td>1.000000</td>\n",
       "      <td>0.000000</td>\n",
       "      <td>0.000000</td>\n",
       "      <td>0.000000</td>\n",
       "      <td>0.000000</td>\n",
       "      <td>0.000000</td>\n",
       "      <td>0.000000</td>\n",
       "      <td>0.000000</td>\n",
       "      <td>0.00000</td>\n",
       "      <td>0.000000</td>\n",
       "      <td>0.000000</td>\n",
       "      <td>0.000000</td>\n",
       "      <td>0.000000</td>\n",
       "      <td>0.000000</td>\n",
       "      <td>1.000000</td>\n",
       "      <td>0.000000</td>\n",
       "      <td>0.000000</td>\n",
       "      <td>0.000000</td>\n",
       "      <td>0.000000</td>\n",
       "      <td>0.000000</td>\n",
       "      <td>0.000000</td>\n",
       "      <td>0.000000</td>\n",
       "      <td>1.000000</td>\n",
       "      <td>1.000000</td>\n",
       "      <td>1.000000</td>\n",
       "      <td>0.000000</td>\n",
       "      <td>0.333300</td>\n",
       "      <td>0.333300</td>\n",
       "      <td>0.333300</td>\n",
       "      <td>0.375000</td>\n",
       "      <td>0.375000</td>\n",
       "      <td>0.375000</td>\n",
       "      <td>14.000000</td>\n",
       "      <td>0.085800</td>\n",
       "      <td>0.087000</td>\n",
       "      <td>0.084300</td>\n",
       "      <td>0.000000</td>\n",
       "      <td>0.000000</td>\n",
       "      <td>0.121000</td>\n",
       "      <td>0.123100</td>\n",
       "      <td>0.131300</td>\n",
       "      <td>0.131000</td>\n",
       "      <td>0.131200</td>\n",
       "      <td>0.125800</td>\n",
       "      <td>0.003900</td>\n",
       "      <td>0.003900</td>\n",
       "      <td>0.003900</td>\n",
       "      <td>0.027800</td>\n",
       "      <td>0.026800</td>\n",
       "      <td>0.023200</td>\n",
       "      <td>2.000000</td>\n",
       "      <td>2.000000</td>\n",
       "      <td>15.000000</td>\n",
       "      <td>0.028663</td>\n",
       "      <td>2.000000</td>\n",
       "      <td>2.000000</td>\n",
       "      <td>0.000000</td>\n",
       "      <td>0.000000</td>\n",
       "      <td>0.000000</td>\n",
       "      <td>0.000000</td>\n",
       "      <td>367191.500000</td>\n",
       "      <td>0.000000</td>\n",
       "      <td>0.128700</td>\n",
       "      <td>0.986600</td>\n",
       "      <td>0.986600</td>\n",
       "      <td>0.986600</td>\n",
       "      <td>0.823200</td>\n",
       "      <td>0.825600</td>\n",
       "      <td>0.823600</td>\n",
       "    </tr>\n",
       "    <tr>\n",
       "      <th>max</th>\n",
       "      <td>258025.500000</td>\n",
       "      <td>4.050000e+06</td>\n",
       "      <td>4.050000e+06</td>\n",
       "      <td>1.170000e+08</td>\n",
       "      <td>9.000000</td>\n",
       "      <td>4.000000</td>\n",
       "      <td>27.000000</td>\n",
       "      <td>261.000000</td>\n",
       "      <td>8.000000</td>\n",
       "      <td>25.000000</td>\n",
       "      <td>1.000000</td>\n",
       "      <td>1.000000</td>\n",
       "      <td>1.000000</td>\n",
       "      <td>1.000000</td>\n",
       "      <td>1.000000</td>\n",
       "      <td>1.000000</td>\n",
       "      <td>20.000000</td>\n",
       "      <td>21.000000</td>\n",
       "      <td>1.000000</td>\n",
       "      <td>1.000000</td>\n",
       "      <td>1.000000</td>\n",
       "      <td>-7338.000000</td>\n",
       "      <td>365243.000000</td>\n",
       "      <td>0.000000</td>\n",
       "      <td>0.000000</td>\n",
       "      <td>0.000000</td>\n",
       "      <td>34.000000</td>\n",
       "      <td>24.000000</td>\n",
       "      <td>1.000000</td>\n",
       "      <td>1.000000</td>\n",
       "      <td>1.000000</td>\n",
       "      <td>1.000000</td>\n",
       "      <td>1.000000</td>\n",
       "      <td>1.000000</td>\n",
       "      <td>0.962693</td>\n",
       "      <td>8.549997e-01</td>\n",
       "      <td>0.896010</td>\n",
       "      <td>1.000000</td>\n",
       "      <td>1.000000</td>\n",
       "      <td>1.000000</td>\n",
       "      <td>1.000000</td>\n",
       "      <td>1.000000</td>\n",
       "      <td>1.000000</td>\n",
       "      <td>1.000000</td>\n",
       "      <td>1.000000</td>\n",
       "      <td>1.00000</td>\n",
       "      <td>1.000000</td>\n",
       "      <td>1.000000</td>\n",
       "      <td>1.000000</td>\n",
       "      <td>1.000000</td>\n",
       "      <td>1.000000</td>\n",
       "      <td>1.000000</td>\n",
       "      <td>1.000000</td>\n",
       "      <td>1.000000</td>\n",
       "      <td>1.000000</td>\n",
       "      <td>1.000000</td>\n",
       "      <td>1.000000</td>\n",
       "      <td>1.000000</td>\n",
       "      <td>1.000000</td>\n",
       "      <td>1.000000</td>\n",
       "      <td>1.000000</td>\n",
       "      <td>1.000000</td>\n",
       "      <td>1.000000</td>\n",
       "      <td>1.000000</td>\n",
       "      <td>1.000000</td>\n",
       "      <td>1.000000</td>\n",
       "      <td>1.000000</td>\n",
       "      <td>1.000000</td>\n",
       "      <td>1.000000</td>\n",
       "      <td>23.000000</td>\n",
       "      <td>1.000000</td>\n",
       "      <td>1.000000</td>\n",
       "      <td>1.000000</td>\n",
       "      <td>1.000000</td>\n",
       "      <td>1.000000</td>\n",
       "      <td>1.000000</td>\n",
       "      <td>1.000000</td>\n",
       "      <td>1.000000</td>\n",
       "      <td>1.000000</td>\n",
       "      <td>1.000000</td>\n",
       "      <td>1.000000</td>\n",
       "      <td>1.000000</td>\n",
       "      <td>1.000000</td>\n",
       "      <td>1.000000</td>\n",
       "      <td>1.000000</td>\n",
       "      <td>1.000000</td>\n",
       "      <td>1.000000</td>\n",
       "      <td>354.000000</td>\n",
       "      <td>351.000000</td>\n",
       "      <td>91.000000</td>\n",
       "      <td>0.072508</td>\n",
       "      <td>3.000000</td>\n",
       "      <td>3.000000</td>\n",
       "      <td>1.000000</td>\n",
       "      <td>1.000000</td>\n",
       "      <td>1.000000</td>\n",
       "      <td>1.000000</td>\n",
       "      <td>456255.000000</td>\n",
       "      <td>1.000000</td>\n",
       "      <td>1.000000</td>\n",
       "      <td>1.000000</td>\n",
       "      <td>1.000000</td>\n",
       "      <td>1.000000</td>\n",
       "      <td>1.000000</td>\n",
       "      <td>1.000000</td>\n",
       "      <td>1.000000</td>\n",
       "    </tr>\n",
       "  </tbody>\n",
       "</table>\n",
       "</div>"
      ],
      "text/plain": [
       "         AMT_ANNUITY    AMT_CREDIT  AMT_GOODS_PRICE  AMT_INCOME_TOTAL  \\\n",
       "count  356219.000000  3.562550e+05     3.559770e+05      3.562550e+05   \n",
       "mean    27425.560657  5.877674e+05     5.280200e+05      1.701161e+05   \n",
       "std     14732.808190  3.986237e+05     3.660650e+05      2.235068e+05   \n",
       "min      1615.500000  4.500000e+04     4.050000e+04      2.565000e+04   \n",
       "25%     16731.000000  2.700000e+05     2.340000e+05      1.125000e+05   \n",
       "50%     25078.500000  5.002110e+05     4.500000e+05      1.530000e+05   \n",
       "75%     34960.500000  7.975575e+05     6.750000e+05      2.025000e+05   \n",
       "max    258025.500000  4.050000e+06     4.050000e+06      1.170000e+08   \n",
       "\n",
       "       AMT_REQ_CREDIT_BUREAU_DAY  AMT_REQ_CREDIT_BUREAU_HOUR  \\\n",
       "count              308687.000000               308687.000000   \n",
       "mean                    0.006281                    0.005808   \n",
       "std                     0.104250                    0.079736   \n",
       "min                     0.000000                    0.000000   \n",
       "25%                     0.000000                    0.000000   \n",
       "50%                     0.000000                    0.000000   \n",
       "75%                     0.000000                    0.000000   \n",
       "max                     9.000000                    4.000000   \n",
       "\n",
       "       AMT_REQ_CREDIT_BUREAU_MON  AMT_REQ_CREDIT_BUREAU_QRT  \\\n",
       "count              308687.000000              308687.000000   \n",
       "mean                    0.231697                   0.304399   \n",
       "std                     0.855949                   0.786915   \n",
       "min                     0.000000                   0.000000   \n",
       "25%                     0.000000                   0.000000   \n",
       "50%                     0.000000                   0.000000   \n",
       "75%                     0.000000                   0.000000   \n",
       "max                    27.000000                 261.000000   \n",
       "\n",
       "       AMT_REQ_CREDIT_BUREAU_WEEK  AMT_REQ_CREDIT_BUREAU_YEAR  APARTMENTS_AVG  \\\n",
       "count               308687.000000               308687.000000   176307.000000   \n",
       "mean                     0.029995                    1.911564        0.118138   \n",
       "std                      0.191374                    1.865338        0.108954   \n",
       "min                      0.000000                    0.000000        0.000000   \n",
       "25%                      0.000000                    0.000000        0.057700   \n",
       "50%                      0.000000                    1.000000        0.088000   \n",
       "75%                      0.000000                    3.000000        0.148500   \n",
       "max                      8.000000                   25.000000        1.000000   \n",
       "\n",
       "       APARTMENTS_MEDI  APARTMENTS_MODE  BASEMENTAREA_AVG  BASEMENTAREA_MEDI  \\\n",
       "count    176307.000000    176307.000000     148671.000000      148671.000000   \n",
       "mean          0.118549         0.114914          0.088673           0.088178   \n",
       "std           0.109824         0.108745          0.082312           0.082017   \n",
       "min           0.000000         0.000000          0.000000           0.000000   \n",
       "25%           0.058300         0.052500          0.044500           0.044100   \n",
       "50%           0.087400         0.084000          0.076500           0.076100   \n",
       "75%           0.149400         0.146000          0.112300           0.111800   \n",
       "max           1.000000         1.000000          1.000000           1.000000   \n",
       "\n",
       "       BASEMENTAREA_MODE   CNT_CHILDREN  CNT_FAM_MEMBERS  COMMONAREA_AVG  \\\n",
       "count      148671.000000  356255.000000    356253.000000   107895.000000   \n",
       "mean            0.087750       0.414316         2.151858        0.045045   \n",
       "std             0.084076       0.720378         0.907937        0.077045   \n",
       "min             0.000000       0.000000         1.000000        0.000000   \n",
       "25%             0.041000       0.000000         2.000000        0.007900   \n",
       "50%             0.074900       0.000000         2.000000        0.021300   \n",
       "75%             0.112700       1.000000         3.000000        0.051900   \n",
       "max             1.000000      20.000000        21.000000        1.000000   \n",
       "\n",
       "       COMMONAREA_MEDI  COMMONAREA_MODE     DAYS_BIRTH  DAYS_EMPLOYED  \\\n",
       "count    107895.000000    107895.000000  356255.000000  356255.000000   \n",
       "mean          0.044994         0.042930  -16041.248841   64317.231413   \n",
       "std           0.077140         0.075437    4358.803980  141705.532576   \n",
       "min           0.000000         0.000000  -25229.000000  -17912.000000   \n",
       "25%           0.007900         0.007300  -19676.000000   -2781.000000   \n",
       "50%           0.021000         0.019200  -15755.000000   -1224.000000   \n",
       "75%           0.051800         0.049300  -12425.000000    -290.000000   \n",
       "max           1.000000         1.000000   -7338.000000  365243.000000   \n",
       "\n",
       "       DAYS_ID_PUBLISH  DAYS_LAST_PHONE_CHANGE  DAYS_REGISTRATION  \\\n",
       "count    356255.000000           356254.000000      356255.000000   \n",
       "mean      -3002.071163             -978.580852       -4983.593527   \n",
       "std        1517.901735              835.063902        3526.968986   \n",
       "min       -7197.000000            -4361.000000      -24672.000000   \n",
       "25%       -4318.000000            -1592.000000       -7477.000000   \n",
       "50%       -3252.000000             -771.000000       -4502.000000   \n",
       "75%       -1717.000000             -286.000000       -1995.000000   \n",
       "max           0.000000                0.000000           0.000000   \n",
       "\n",
       "       DEF_30_CNT_SOCIAL_CIRCLE  DEF_60_CNT_SOCIAL_CIRCLE  ELEVATORS_AVG  \\\n",
       "count             355205.000000             355205.000000  167175.000000   \n",
       "mean                   0.143452                  0.100198       0.079819   \n",
       "std                    0.456579                  0.368259       0.135249   \n",
       "min                    0.000000                  0.000000       0.000000   \n",
       "25%                    0.000000                  0.000000       0.000000   \n",
       "50%                    0.000000                  0.000000       0.000000   \n",
       "75%                    0.000000                  0.000000       0.120000   \n",
       "max                   34.000000                 24.000000       1.000000   \n",
       "\n",
       "       ELEVATORS_MEDI  ELEVATORS_MODE  ENTRANCES_AVG  ENTRANCES_MEDI  \\\n",
       "count   167175.000000   167175.000000  177848.000000   177848.000000   \n",
       "mean         0.078930        0.075346       0.150015        0.149494   \n",
       "std          0.135133        0.133025       0.100139        0.100450   \n",
       "min          0.000000        0.000000       0.000000        0.000000   \n",
       "25%          0.000000        0.000000       0.069000        0.069000   \n",
       "50%          0.000000        0.000000       0.137900        0.137900   \n",
       "75%          0.120000        0.120800       0.206900        0.206900   \n",
       "max          1.000000        1.000000       1.000000        1.000000   \n",
       "\n",
       "       ENTRANCES_MODE   EXT_SOURCE_1  EXT_SOURCE_2   EXT_SOURCE_3  \\\n",
       "count   177848.000000  162345.000000  3.555870e+05  286622.000000   \n",
       "mean         0.145471       0.501965  5.148900e-01       0.509350   \n",
       "std          0.101088       0.210045  1.897531e-01       0.194141   \n",
       "min          0.000000       0.013458  8.173617e-08       0.000527   \n",
       "25%          0.069000       0.335503  3.949551e-01       0.368969   \n",
       "50%          0.137900       0.506155  5.648491e-01       0.533482   \n",
       "75%          0.206900       0.673344  6.629285e-01       0.665855   \n",
       "max          1.000000       0.962693  8.549997e-01       0.896010   \n",
       "\n",
       "       FLAG_CONT_MOBILE  FLAG_DOCUMENT_10  FLAG_DOCUMENT_11  FLAG_DOCUMENT_12  \\\n",
       "count     356255.000000     356255.000000     356255.000000     356255.000000   \n",
       "mean           0.998170          0.000020          0.003537          0.000006   \n",
       "std            0.042741          0.004433          0.059366          0.002369   \n",
       "min            0.000000          0.000000          0.000000          0.000000   \n",
       "25%            1.000000          0.000000          0.000000          0.000000   \n",
       "50%            1.000000          0.000000          0.000000          0.000000   \n",
       "75%            1.000000          0.000000          0.000000          0.000000   \n",
       "max            1.000000          1.000000          1.000000          1.000000   \n",
       "\n",
       "       FLAG_DOCUMENT_13  FLAG_DOCUMENT_14  FLAG_DOCUMENT_15  FLAG_DOCUMENT_16  \\\n",
       "count     356255.000000     356255.000000     356255.000000     356255.000000   \n",
       "mean           0.003043          0.002535          0.001044          0.008570   \n",
       "std            0.055077          0.050282          0.032297          0.092175   \n",
       "min            0.000000          0.000000          0.000000          0.000000   \n",
       "25%            0.000000          0.000000          0.000000          0.000000   \n",
       "50%            0.000000          0.000000          0.000000          0.000000   \n",
       "75%            0.000000          0.000000          0.000000          0.000000   \n",
       "max            1.000000          1.000000          1.000000          1.000000   \n",
       "\n",
       "       FLAG_DOCUMENT_17  FLAG_DOCUMENT_18  FLAG_DOCUMENT_19  FLAG_DOCUMENT_2  \\\n",
       "count      356255.00000     356255.000000     356255.000000    356255.000000   \n",
       "mean            0.00023          0.007231          0.000514         0.000036   \n",
       "std             0.01517          0.084726          0.022659         0.006041   \n",
       "min             0.00000          0.000000          0.000000         0.000000   \n",
       "25%             0.00000          0.000000          0.000000         0.000000   \n",
       "50%             0.00000          0.000000          0.000000         0.000000   \n",
       "75%             0.00000          0.000000          0.000000         0.000000   \n",
       "max             1.00000          1.000000          1.000000         1.000000   \n",
       "\n",
       "       FLAG_DOCUMENT_20  FLAG_DOCUMENT_21  FLAG_DOCUMENT_3  FLAG_DOCUMENT_4  \\\n",
       "count     356255.000000     356255.000000    356255.000000    356255.000000   \n",
       "mean           0.000438          0.000289         0.720504         0.000084   \n",
       "std            0.020921          0.017001         0.448752         0.009176   \n",
       "min            0.000000          0.000000         0.000000         0.000000   \n",
       "25%            0.000000          0.000000         0.000000         0.000000   \n",
       "50%            0.000000          0.000000         1.000000         0.000000   \n",
       "75%            0.000000          0.000000         1.000000         0.000000   \n",
       "max            1.000000          1.000000         1.000000         1.000000   \n",
       "\n",
       "       FLAG_DOCUMENT_5  FLAG_DOCUMENT_6  FLAG_DOCUMENT_7  FLAG_DOCUMENT_8  \\\n",
       "count    356255.000000    356255.000000    356255.000000    356255.000000   \n",
       "mean          0.015065         0.087976         0.000171         0.082346   \n",
       "std           0.121812         0.283261         0.013084         0.274891   \n",
       "min           0.000000         0.000000         0.000000         0.000000   \n",
       "25%           0.000000         0.000000         0.000000         0.000000   \n",
       "50%           0.000000         0.000000         0.000000         0.000000   \n",
       "75%           0.000000         0.000000         0.000000         0.000000   \n",
       "max           1.000000         1.000000         1.000000         1.000000   \n",
       "\n",
       "       FLAG_DOCUMENT_9     FLAG_EMAIL  FLAG_EMP_PHONE     FLAG_MOBIL  \\\n",
       "count    356255.000000  356255.000000   356255.000000  356255.000000   \n",
       "mean          0.003977       0.071213        0.818498       0.999994   \n",
       "std           0.062942       0.257181        0.385434       0.002369   \n",
       "min           0.000000       0.000000        0.000000       0.000000   \n",
       "25%           0.000000       0.000000        1.000000       1.000000   \n",
       "50%           0.000000       0.000000        1.000000       1.000000   \n",
       "75%           0.000000       0.000000        1.000000       1.000000   \n",
       "max           1.000000       1.000000        1.000000       1.000000   \n",
       "\n",
       "          FLAG_PHONE  FLAG_WORK_PHONE  FLOORSMAX_AVG  FLOORSMAX_MEDI  \\\n",
       "count  356255.000000    356255.000000  179914.000000   179914.000000   \n",
       "mean        0.278612         0.200098       0.227331        0.226922   \n",
       "std         0.448317         0.400074       0.145051        0.145453   \n",
       "min         0.000000         0.000000       0.000000        0.000000   \n",
       "25%         0.000000         0.000000       0.166700        0.166700   \n",
       "50%         0.000000         0.000000       0.166700        0.166700   \n",
       "75%         1.000000         0.000000       0.333300        0.333300   \n",
       "max         1.000000         1.000000       1.000000        1.000000   \n",
       "\n",
       "       FLOORSMAX_MODE  FLOORSMIN_AVG  FLOORSMIN_MEDI  FLOORSMIN_MODE  \\\n",
       "count   179914.000000  115147.000000   115147.000000   115147.000000   \n",
       "mean         0.223315       0.232817        0.232504        0.228878   \n",
       "std          0.144126       0.161909        0.162419        0.161725   \n",
       "min          0.000000       0.000000        0.000000        0.000000   \n",
       "25%          0.166700       0.083300        0.083300        0.083300   \n",
       "50%          0.166700       0.208300        0.208300        0.208300   \n",
       "75%          0.333300       0.375000        0.375000        0.375000   \n",
       "max          1.000000       1.000000        1.000000        1.000000   \n",
       "\n",
       "       HOUR_APPR_PROCESS_START   LANDAREA_AVG  LANDAREA_MEDI  LANDAREA_MODE  \\\n",
       "count            356255.000000  145411.000000  145411.000000  145411.000000   \n",
       "mean                 12.055749       0.066454       0.067296       0.065092   \n",
       "std                   3.267576       0.081287       0.082267       0.081911   \n",
       "min                   0.000000       0.000000       0.000000       0.000000   \n",
       "25%                  10.000000       0.018700       0.018800       0.016600   \n",
       "50%                  12.000000       0.048200       0.048700       0.045900   \n",
       "75%                  14.000000       0.085800       0.087000       0.084300   \n",
       "max                  23.000000       1.000000       1.000000       1.000000   \n",
       "\n",
       "       LIVE_CITY_NOT_WORK_CITY  LIVE_REGION_NOT_WORK_REGION  \\\n",
       "count            356255.000000                356255.000000   \n",
       "mean                  0.178824                     0.040847   \n",
       "std                   0.383206                     0.197936   \n",
       "min                   0.000000                     0.000000   \n",
       "25%                   0.000000                     0.000000   \n",
       "50%                   0.000000                     0.000000   \n",
       "75%                   0.000000                     0.000000   \n",
       "max                   1.000000                     1.000000   \n",
       "\n",
       "       LIVINGAPARTMENTS_AVG  LIVINGAPARTMENTS_MEDI  LIVINGAPARTMENTS_MODE  \\\n",
       "count         113276.000000          113276.000000          113276.000000   \n",
       "mean               0.101495               0.102674               0.106382   \n",
       "std                0.093418               0.094541               0.098779   \n",
       "min                0.000000               0.000000               0.000000   \n",
       "25%                0.050400               0.051300               0.054200   \n",
       "50%                0.075600               0.077000               0.077100   \n",
       "75%                0.121000               0.123100               0.131300   \n",
       "max                1.000000               1.000000               1.000000   \n",
       "\n",
       "       LIVINGAREA_AVG  LIVINGAREA_MEDI  LIVINGAREA_MODE  \\\n",
       "count   178353.000000    178353.000000    178353.000000   \n",
       "mean         0.108089         0.109279         0.106641   \n",
       "std          0.111194         0.112881         0.112555   \n",
       "min          0.000000         0.000000         0.000000   \n",
       "25%          0.045800         0.046200         0.043100   \n",
       "50%          0.074900         0.075400         0.073300   \n",
       "75%          0.131000         0.131200         0.125800   \n",
       "max          1.000000         1.000000         1.000000   \n",
       "\n",
       "       NONLIVINGAPARTMENTS_AVG  NONLIVINGAPARTMENTS_MEDI  \\\n",
       "count            109394.000000             109394.000000   \n",
       "mean                  0.008868                  0.008697   \n",
       "std                   0.047876                  0.047519   \n",
       "min                   0.000000                  0.000000   \n",
       "25%                   0.000000                  0.000000   \n",
       "50%                   0.000000                  0.000000   \n",
       "75%                   0.003900                  0.003900   \n",
       "max                   1.000000                  1.000000   \n",
       "\n",
       "       NONLIVINGAPARTMENTS_MODE  NONLIVINGAREA_AVG  NONLIVINGAREA_MEDI  \\\n",
       "count             109394.000000      160489.000000       160489.000000   \n",
       "mean                   0.008116           0.028503            0.028386   \n",
       "std                    0.046330           0.069880            0.070574   \n",
       "min                    0.000000           0.000000            0.000000   \n",
       "25%                    0.000000           0.000000            0.000000   \n",
       "50%                    0.000000           0.003600            0.003100   \n",
       "75%                    0.003900           0.027800            0.026800   \n",
       "max                    1.000000           1.000000            1.000000   \n",
       "\n",
       "       NONLIVINGAREA_MODE  OBS_30_CNT_SOCIAL_CIRCLE  OBS_60_CNT_SOCIAL_CIRCLE  \\\n",
       "count       160489.000000             355205.000000             355205.000000   \n",
       "mean             0.027183                  1.425729                  1.409468   \n",
       "std              0.070723                  2.599914                  2.577724   \n",
       "min              0.000000                  0.000000                  0.000000   \n",
       "25%              0.000000                  0.000000                  0.000000   \n",
       "50%              0.001100                  0.000000                  0.000000   \n",
       "75%              0.023200                  2.000000                  2.000000   \n",
       "max              1.000000                354.000000                351.000000   \n",
       "\n",
       "         OWN_CAR_AGE  REGION_POPULATION_RELATIVE  REGION_RATING_CLIENT  \\\n",
       "count  121014.000000               356255.000000         356255.000000   \n",
       "mean       12.023741                    0.020917              2.050506   \n",
       "std        11.880848                    0.013915              0.510947   \n",
       "min         0.000000                    0.000253              1.000000   \n",
       "25%         5.000000                    0.010006              2.000000   \n",
       "50%         9.000000                    0.018850              2.000000   \n",
       "75%        15.000000                    0.028663              2.000000   \n",
       "max        91.000000                    0.072508              3.000000   \n",
       "\n",
       "       REGION_RATING_CLIENT_W_CITY  REG_CITY_NOT_LIVE_CITY  \\\n",
       "count                356255.000000           356255.000000   \n",
       "mean                      2.028932                0.078076   \n",
       "std                       0.504586                0.268292   \n",
       "min                      -1.000000                0.000000   \n",
       "25%                       2.000000                0.000000   \n",
       "50%                       2.000000                0.000000   \n",
       "75%                       2.000000                0.000000   \n",
       "max                       3.000000                1.000000   \n",
       "\n",
       "       REG_CITY_NOT_WORK_CITY  REG_REGION_NOT_LIVE_REGION  \\\n",
       "count           356255.000000               356255.000000   \n",
       "mean                 0.229661                    0.015649   \n",
       "std                  0.420616                    0.124113   \n",
       "min                  0.000000                    0.000000   \n",
       "25%                  0.000000                    0.000000   \n",
       "50%                  0.000000                    0.000000   \n",
       "75%                  0.000000                    0.000000   \n",
       "max                  1.000000                    1.000000   \n",
       "\n",
       "       REG_REGION_NOT_WORK_REGION     SK_ID_CURR         TARGET  \\\n",
       "count               356255.000000  356255.000000  307511.000000   \n",
       "mean                     0.051371  278128.000000       0.080729   \n",
       "std                      0.220753  102842.104413       0.272419   \n",
       "min                      0.000000  100001.000000       0.000000   \n",
       "25%                      0.000000  189064.500000       0.000000   \n",
       "50%                      0.000000  278128.000000       0.000000   \n",
       "75%                      0.000000  367191.500000       0.000000   \n",
       "max                      1.000000  456255.000000       1.000000   \n",
       "\n",
       "       TOTALAREA_MODE  YEARS_BEGINEXPLUATATION_AVG  \\\n",
       "count   185200.000000                183392.000000   \n",
       "mean         0.103193                     0.977889   \n",
       "std          0.108041                     0.057929   \n",
       "min          0.000000                     0.000000   \n",
       "25%          0.041500                     0.976700   \n",
       "50%          0.069000                     0.981600   \n",
       "75%          0.128700                     0.986600   \n",
       "max          1.000000                     1.000000   \n",
       "\n",
       "       YEARS_BEGINEXPLUATATION_MEDI  YEARS_BEGINEXPLUATATION_MODE  \\\n",
       "count                 183392.000000                 183392.000000   \n",
       "mean                       0.977903                      0.977239   \n",
       "std                        0.058562                      0.063165   \n",
       "min                        0.000000                      0.000000   \n",
       "25%                        0.976700                      0.976700   \n",
       "50%                        0.981600                      0.981600   \n",
       "75%                        0.986600                      0.986600   \n",
       "max                        1.000000                      1.000000   \n",
       "\n",
       "       YEARS_BUILD_AVG  YEARS_BUILD_MEDI  YEARS_BUILD_MODE  \n",
       "count    119949.000000     119949.000000     119949.000000  \n",
       "mean          0.752283          0.755548          0.759452  \n",
       "std           0.113267          0.112057          0.110112  \n",
       "min           0.000000          0.000000          0.000000  \n",
       "25%           0.687200          0.691400          0.699400  \n",
       "50%           0.755200          0.758500          0.764800  \n",
       "75%           0.823200          0.825600          0.823600  \n",
       "max           1.000000          1.000000          1.000000  "
      ]
     },
     "execution_count": 9,
     "metadata": {},
     "output_type": "execute_result"
    }
   ],
   "source": [
    "pd.set_option('display.max_columns', None)\n",
    "df.describe()"
   ]
  },
  {
   "cell_type": "markdown",
   "metadata": {},
   "source": [
    "We can see there are some anamolies in  `DAYS_EMPLOYED` where the maximum values is equal to 365243.<br>\n",
    "This could mean that there is an outlier in the dataset. <br>\n",
    "An outlier is an observation that lies an abnormal distance from other values in a random sample from a population.<br>\n"
   ]
  },
  {
   "cell_type": "markdown",
   "metadata": {},
   "source": [
    "365243 days is almost 1000 years, which can't be the case in our situation<br>\n",
    "We decide to replace these values with NaN since we don't have the actual data."
   ]
  },
  {
   "cell_type": "code",
   "execution_count": 10,
   "metadata": {},
   "outputs": [],
   "source": [
    "df['DAYS_EMPLOYED'].replace(365243, np.nan, inplace= True)"
   ]
  },
  {
   "cell_type": "markdown",
   "metadata": {},
   "source": [
    "### Let's check if other datasets have the issue: Previous Application"
   ]
  },
  {
   "cell_type": "code",
   "execution_count": 11,
   "metadata": {},
   "outputs": [
    {
     "data": {
      "text/html": [
       "<div>\n",
       "<style scoped>\n",
       "    .dataframe tbody tr th:only-of-type {\n",
       "        vertical-align: middle;\n",
       "    }\n",
       "\n",
       "    .dataframe tbody tr th {\n",
       "        vertical-align: top;\n",
       "    }\n",
       "\n",
       "    .dataframe thead th {\n",
       "        text-align: right;\n",
       "    }\n",
       "</style>\n",
       "<table border=\"1\" class=\"dataframe\">\n",
       "  <thead>\n",
       "    <tr style=\"text-align: right;\">\n",
       "      <th></th>\n",
       "      <th>DAYS_FIRST_DRAWING</th>\n",
       "      <th>DAYS_FIRST_DUE</th>\n",
       "      <th>DAYS_LAST_DUE_1ST_VERSION</th>\n",
       "      <th>DAYS_LAST_DUE</th>\n",
       "      <th>DAYS_TERMINATION</th>\n",
       "    </tr>\n",
       "  </thead>\n",
       "  <tbody>\n",
       "    <tr>\n",
       "      <th>count</th>\n",
       "      <td>997149.000000</td>\n",
       "      <td>997149.000000</td>\n",
       "      <td>997149.000000</td>\n",
       "      <td>997149.000000</td>\n",
       "      <td>997149.000000</td>\n",
       "    </tr>\n",
       "    <tr>\n",
       "      <th>mean</th>\n",
       "      <td>342209.855039</td>\n",
       "      <td>13826.269337</td>\n",
       "      <td>33767.774054</td>\n",
       "      <td>76582.403064</td>\n",
       "      <td>81992.343838</td>\n",
       "    </tr>\n",
       "    <tr>\n",
       "      <th>std</th>\n",
       "      <td>88916.115834</td>\n",
       "      <td>72444.869708</td>\n",
       "      <td>106857.034789</td>\n",
       "      <td>149647.415123</td>\n",
       "      <td>153303.516729</td>\n",
       "    </tr>\n",
       "    <tr>\n",
       "      <th>min</th>\n",
       "      <td>-2922.000000</td>\n",
       "      <td>-2892.000000</td>\n",
       "      <td>-2801.000000</td>\n",
       "      <td>-2889.000000</td>\n",
       "      <td>-2874.000000</td>\n",
       "    </tr>\n",
       "    <tr>\n",
       "      <th>25%</th>\n",
       "      <td>365243.000000</td>\n",
       "      <td>-1628.000000</td>\n",
       "      <td>-1242.000000</td>\n",
       "      <td>-1314.000000</td>\n",
       "      <td>-1270.000000</td>\n",
       "    </tr>\n",
       "    <tr>\n",
       "      <th>50%</th>\n",
       "      <td>365243.000000</td>\n",
       "      <td>-831.000000</td>\n",
       "      <td>-361.000000</td>\n",
       "      <td>-537.000000</td>\n",
       "      <td>-499.000000</td>\n",
       "    </tr>\n",
       "    <tr>\n",
       "      <th>75%</th>\n",
       "      <td>365243.000000</td>\n",
       "      <td>-411.000000</td>\n",
       "      <td>129.000000</td>\n",
       "      <td>-74.000000</td>\n",
       "      <td>-44.000000</td>\n",
       "    </tr>\n",
       "    <tr>\n",
       "      <th>max</th>\n",
       "      <td>365243.000000</td>\n",
       "      <td>365243.000000</td>\n",
       "      <td>365243.000000</td>\n",
       "      <td>365243.000000</td>\n",
       "      <td>365243.000000</td>\n",
       "    </tr>\n",
       "  </tbody>\n",
       "</table>\n",
       "</div>"
      ],
      "text/plain": [
       "       DAYS_FIRST_DRAWING  DAYS_FIRST_DUE  DAYS_LAST_DUE_1ST_VERSION  \\\n",
       "count       997149.000000   997149.000000              997149.000000   \n",
       "mean        342209.855039    13826.269337               33767.774054   \n",
       "std          88916.115834    72444.869708              106857.034789   \n",
       "min          -2922.000000    -2892.000000               -2801.000000   \n",
       "25%         365243.000000    -1628.000000               -1242.000000   \n",
       "50%         365243.000000     -831.000000                -361.000000   \n",
       "75%         365243.000000     -411.000000                 129.000000   \n",
       "max         365243.000000   365243.000000              365243.000000   \n",
       "\n",
       "       DAYS_LAST_DUE  DAYS_TERMINATION  \n",
       "count  997149.000000     997149.000000  \n",
       "mean    76582.403064      81992.343838  \n",
       "std    149647.415123     153303.516729  \n",
       "min     -2889.000000      -2874.000000  \n",
       "25%     -1314.000000      -1270.000000  \n",
       "50%      -537.000000       -499.000000  \n",
       "75%       -74.000000        -44.000000  \n",
       "max    365243.000000     365243.000000  "
      ]
     },
     "execution_count": 11,
     "metadata": {},
     "output_type": "execute_result"
    }
   ],
   "source": [
    "previous_app[['DAYS_FIRST_DRAWING', 'DAYS_FIRST_DUE', 'DAYS_LAST_DUE_1ST_VERSION', 'DAYS_LAST_DUE', 'DAYS_TERMINATION']].describe()"
   ]
  },
  {
   "cell_type": "markdown",
   "metadata": {},
   "source": [
    "The previous application dataset has outliers, as we've seen previously. <br>\n",
    "We decide to replace them with NaN since we don't have the actual data. "
   ]
  },
  {
   "cell_type": "code",
   "execution_count": 12,
   "metadata": {},
   "outputs": [],
   "source": [
    "previous_app['DAYS_FIRST_DRAWING'].replace(365243, np.nan, inplace= True)\n",
    "\n",
    "previous_app['DAYS_FIRST_DUE'].replace(365243, np.nan, inplace= True)\n",
    "\n",
    "previous_app['DAYS_LAST_DUE_1ST_VERSION'].replace(365243, np.nan, inplace= True)\n",
    "\n",
    "previous_app['DAYS_LAST_DUE'].replace(365243, np.nan, inplace= True)\n",
    "\n",
    "previous_app['DAYS_TERMINATION'].replace(365243, np.nan, inplace= True)"
   ]
  },
  {
   "cell_type": "markdown",
   "metadata": {},
   "source": [
    "### Target Distribution"
   ]
  },
  {
   "cell_type": "markdown",
   "metadata": {},
   "source": [
    "Target = 1 **-->** Loan was repaid <br>\n",
    "Target = 0 **-->** Loan was not repaid"
   ]
  },
  {
   "cell_type": "code",
   "execution_count": 13,
   "metadata": {},
   "outputs": [
    {
     "data": {
      "text/plain": [
       "TARGET\n",
       "0.0    282686\n",
       "1.0     24825\n",
       "Name: TARGET, dtype: int64"
      ]
     },
     "execution_count": 13,
     "metadata": {},
     "output_type": "execute_result"
    }
   ],
   "source": [
    "s = df.groupby(['TARGET'])['TARGET'].count()\n",
    "s # shows the number of loans that weren't repaid ( = 0 ) and the ones that were repaid ( = 1)"
   ]
  },
  {
   "cell_type": "code",
   "execution_count": 14,
   "metadata": {},
   "outputs": [
    {
     "data": {
      "text/plain": [
       "<matplotlib.axes._subplots.AxesSubplot at 0x18869610160>"
      ]
     },
     "execution_count": 14,
     "metadata": {},
     "output_type": "execute_result"
    },
    {
     "data": {
      "image/png": "[encoded data removed]",
      "text/plain": [
       "<Figure size 432x288 with 1 Axes>"
      ]
     },
     "metadata": {},
     "output_type": "display_data"
    }
   ],
   "source": [
    "s.plot.pie(y=df.index,\n",
    "           shadow=False,\n",
    "           explode=(0.1,0),\n",
    "           startangle=90,\n",
    "           autopct='%1.1f%%')"
   ]
  },
  {
   "cell_type": "markdown",
   "metadata": {},
   "source": [
    "We can clearly see that most of the targets = 0, labels are unbalanced."
   ]
  },
  {
   "cell_type": "markdown",
   "metadata": {},
   "source": [
    "### Types of occupations"
   ]
  },
  {
   "cell_type": "code",
   "execution_count": 15,
   "metadata": {},
   "outputs": [
    {
     "data": {
      "image/png": "[encoded data removed]",
      "text/plain": [
       "<Figure size 1080x360 with 1 Axes>"
      ]
     },
     "metadata": {
      "needs_background": "light"
     },
     "output_type": "display_data"
    }
   ],
   "source": [
    "plt.figure(figsize=(15,5))\n",
    "sns.countplot(train.OCCUPATION_TYPE.values, order = train.OCCUPATION_TYPE.value_counts().index, data=train)\n",
    "plt.xticks(rotation=90)\n",
    "plt.show()"
   ]
  },
  {
   "cell_type": "markdown",
   "metadata": {},
   "source": [
    "Laborers are the ones that ask for the most loans, followed by sales staff and core staff."
   ]
  },
  {
   "cell_type": "markdown",
   "metadata": {},
   "source": [
    "### Types of credit"
   ]
  },
  {
   "cell_type": "code",
   "execution_count": 16,
   "metadata": {},
   "outputs": [
    {
     "data": {
      "text/plain": [
       "<matplotlib.axes._subplots.AxesSubplot at 0x18800849128>"
      ]
     },
     "execution_count": 16,
     "metadata": {},
     "output_type": "execute_result"
    },
    {
     "data": {
      "image/png": "[encoded data removed]",
      "text/plain": [
       "<Figure size 1080x360 with 1 Axes>"
      ]
     },
     "metadata": {
      "needs_background": "light"
     },
     "output_type": "display_data"
    }
   ],
   "source": [
    "plt.figure(figsize=(15,5))\n",
    "sns.countplot(bureau.CREDIT_TYPE.values, order = bureau.CREDIT_TYPE.value_counts().iloc[:6].index, data=bureau)"
   ]
  },
  {
   "cell_type": "markdown",
   "metadata": {},
   "source": [
    "### Education"
   ]
  },
  {
   "cell_type": "code",
   "execution_count": 17,
   "metadata": {},
   "outputs": [
    {
     "data": {
      "image/png": "[encoded data removed]",
      "text/plain": [
       "<Figure size 1080x360 with 1 Axes>"
      ]
     },
     "metadata": {
      "needs_background": "light"
     },
     "output_type": "display_data"
    }
   ],
   "source": [
    "plt.figure(figsize=(15,5))\n",
    "sns.countplot(train.NAME_EDUCATION_TYPE.values, data=train, hue=train.TARGET, palette = \"Paired\")\n",
    "plt.show()"
   ]
  },
  {
   "cell_type": "markdown",
   "metadata": {},
   "source": [
    "People who have secondary school education are the ones that are more likely not to repay the loan."
   ]
  },
  {
   "cell_type": "markdown",
   "metadata": {},
   "source": [
    "### Missing values"
   ]
  },
  {
   "cell_type": "code",
   "execution_count": 18,
   "metadata": {},
   "outputs": [],
   "source": [
    "missing = df.isnull().sum(axis=0).reset_index()\n",
    "missing.columns=['column_name','missing_count']\n",
    "percent = ((df.isnull().sum(axis=0)/df.shape[0])*100).reset_index()\n",
    "percent.columns=['variable','percent']\n",
    "missing_data = pd.concat([missing,percent['percent']],axis=1)\n",
    "missing_data=missing_data.ix[missing_data['missing_count']>0].sort_values(by='missing_count')"
   ]
  },
  {
   "cell_type": "code",
   "execution_count": 19,
   "metadata": {},
   "outputs": [
    {
     "data": {
      "text/html": [
       "<div>\n",
       "<style scoped>\n",
       "    .dataframe tbody tr th:only-of-type {\n",
       "        vertical-align: middle;\n",
       "    }\n",
       "\n",
       "    .dataframe tbody tr th {\n",
       "        vertical-align: top;\n",
       "    }\n",
       "\n",
       "    .dataframe thead th {\n",
       "        text-align: right;\n",
       "    }\n",
       "</style>\n",
       "<table border=\"1\" class=\"dataframe\">\n",
       "  <thead>\n",
       "    <tr style=\"text-align: right;\">\n",
       "      <th></th>\n",
       "      <th>column_name</th>\n",
       "      <th>missing_count</th>\n",
       "      <th>percent</th>\n",
       "    </tr>\n",
       "  </thead>\n",
       "  <tbody>\n",
       "    <tr>\n",
       "      <th>25</th>\n",
       "      <td>DAYS_LAST_PHONE_CHANGE</td>\n",
       "      <td>1</td>\n",
       "      <td>0.000281</td>\n",
       "    </tr>\n",
       "    <tr>\n",
       "      <th>17</th>\n",
       "      <td>CNT_FAM_MEMBERS</td>\n",
       "      <td>2</td>\n",
       "      <td>0.000561</td>\n",
       "    </tr>\n",
       "    <tr>\n",
       "      <th>0</th>\n",
       "      <td>AMT_ANNUITY</td>\n",
       "      <td>36</td>\n",
       "      <td>0.010105</td>\n",
       "    </tr>\n",
       "    <tr>\n",
       "      <th>2</th>\n",
       "      <td>AMT_GOODS_PRICE</td>\n",
       "      <td>278</td>\n",
       "      <td>0.078034</td>\n",
       "    </tr>\n",
       "    <tr>\n",
       "      <th>37</th>\n",
       "      <td>EXT_SOURCE_2</td>\n",
       "      <td>668</td>\n",
       "      <td>0.187506</td>\n",
       "    </tr>\n",
       "    <tr>\n",
       "      <th>...</th>\n",
       "      <td>...</td>\n",
       "      <td>...</td>\n",
       "      <td>...</td>\n",
       "    </tr>\n",
       "    <tr>\n",
       "      <th>95</th>\n",
       "      <td>NONLIVINGAPARTMENTS_MODE</td>\n",
       "      <td>246861</td>\n",
       "      <td>69.293343</td>\n",
       "    </tr>\n",
       "    <tr>\n",
       "      <th>94</th>\n",
       "      <td>NONLIVINGAPARTMENTS_MEDI</td>\n",
       "      <td>246861</td>\n",
       "      <td>69.293343</td>\n",
       "    </tr>\n",
       "    <tr>\n",
       "      <th>20</th>\n",
       "      <td>COMMONAREA_MEDI</td>\n",
       "      <td>248360</td>\n",
       "      <td>69.714109</td>\n",
       "    </tr>\n",
       "    <tr>\n",
       "      <th>19</th>\n",
       "      <td>COMMONAREA_AVG</td>\n",
       "      <td>248360</td>\n",
       "      <td>69.714109</td>\n",
       "    </tr>\n",
       "    <tr>\n",
       "      <th>21</th>\n",
       "      <td>COMMONAREA_MODE</td>\n",
       "      <td>248360</td>\n",
       "      <td>69.714109</td>\n",
       "    </tr>\n",
       "  </tbody>\n",
       "</table>\n",
       "<p>69 rows × 3 columns</p>\n",
       "</div>"
      ],
      "text/plain": [
       "                 column_name  missing_count    percent\n",
       "25    DAYS_LAST_PHONE_CHANGE              1   0.000281\n",
       "17           CNT_FAM_MEMBERS              2   0.000561\n",
       "0                AMT_ANNUITY             36   0.010105\n",
       "2            AMT_GOODS_PRICE            278   0.078034\n",
       "37              EXT_SOURCE_2            668   0.187506\n",
       "..                       ...            ...        ...\n",
       "95  NONLIVINGAPARTMENTS_MODE         246861  69.293343\n",
       "94  NONLIVINGAPARTMENTS_MEDI         246861  69.293343\n",
       "20           COMMONAREA_MEDI         248360  69.714109\n",
       "19            COMMONAREA_AVG         248360  69.714109\n",
       "21           COMMONAREA_MODE         248360  69.714109\n",
       "\n",
       "[69 rows x 3 columns]"
      ]
     },
     "execution_count": 19,
     "metadata": {},
     "output_type": "execute_result"
    }
   ],
   "source": [
    "missing_data"
   ]
  },
  {
   "cell_type": "markdown",
   "metadata": {},
   "source": [
    "We are going to delete all the values with more than 50 percent of missing values"
   ]
  },
  {
   "cell_type": "markdown",
   "metadata": {},
   "source": [
    "This is the part of code to remove the feautures that have more than 50% of missing values.\n",
    "We won't use it because the final score would decrease since EXT_SOURCE_1 would be deleted."
   ]
  },
  {
   "cell_type": "raw",
   "metadata": {},
   "source": [
    "missing_col=missing_data['column_name'][missing_data['percent']> 50].tolist()\n",
    "for i in missing_col:\n",
    "    df.drop([i],axis=1,inplace=True)\n",
    "    print(i)   "
   ]
  },
  {
   "cell_type": "markdown",
   "metadata": {},
   "source": [
    "------\n"
   ]
  },
  {
   "cell_type": "markdown",
   "metadata": {},
   "source": [
    "# 4. Pre-processing and feature engineering "
   ]
  },
  {
   "cell_type": "markdown",
   "metadata": {},
   "source": [
    "#### Handling Categorical Features"
   ]
  },
  {
   "cell_type": "code",
   "execution_count": 19,
   "metadata": {},
   "outputs": [],
   "source": [
    "def one_hot_encoding(df):\n",
    "    \n",
    "    categorical = [col for col in list(df.columns) if df[col].dtype == 'object'] # returns all the columns that are categorical\n",
    "    for col in categorical:\n",
    "        df = pd.concat([df, pd.get_dummies(df[col], prefix=col)], axis=1) # creates dummy variables of categorical features that we previously found\n",
    "    return df \n",
    "    "
   ]
  },
  {
   "cell_type": "markdown",
   "metadata": {
    "_uuid": "7866b36782828432e72d1b46a7175470aa080061"
   },
   "source": [
    "## 4.1 Train/Test"
   ]
  },
  {
   "cell_type": "markdown",
   "metadata": {
    "_uuid": "98b9bcdd91be82ca4e71bdeb0d5d0c5ac9a00ead"
   },
   "source": [
    "### Label Encoder and One Hot Encoding"
   ]
  },
  {
   "cell_type": "markdown",
   "metadata": {},
   "source": [
    "Since we have categorical data we need to convert this kind of categorical text data into model-understandable numerical data, for this porpuse we use the **Label Encoder class**. eg:<br>\n",
    "  * Small --> 0 <br>\n",
    "  * Medium --> 1<br>\n",
    "  * Large --> 2<br>\n",
    "\n",
    "**One Hot Encoding** : The example that we provided previously is enough to understand that integer encoding is useful in a situation where the categorical data can be ordered in some wat, but in many cases categorical variables don't have such ordinal relationship, the integer encoding is not enough. One hot encoding is a process by which categorical variables are converted into a binary style of categorizing. eg: <br>\n",
    "\n",
    "| Fruit   | \n",
    "| --------|\n",
    "| Banana  |\n",
    "| Mango   |\n",
    "| Apple   | \n",
    " \n",
    "<br><br> **Becomes:** <br>\n",
    "\n",
    "|  Banana  |  Mango  |  Apple  |\n",
    "| --- |:-:| -:|\n",
    "| 0   | 0 | 1 |\n",
    "| 0   | 1 | 0 |\n",
    "| 1   | 0 | 0 |"
   ]
  },
  {
   "cell_type": "code",
   "execution_count": 20,
   "metadata": {
    "_uuid": "4353d5c61b5f7477e4cba6e5ccea6377d05a7ba9",
    "scrolled": true
   },
   "outputs": [
    {
     "name": "stdout",
     "output_type": "stream",
     "text": [
      "3 variable/s are label encoded\n"
     ]
    }
   ],
   "source": [
    "# Label encoder\n",
    "label_enc = LabelEncoder()\n",
    "le_count = 0\n",
    "# Iterate through the columns\n",
    "for col in df:\n",
    "    \n",
    "    if df[col].dtype == 'object':\n",
    "        \n",
    "        # If 2 or fewer unique categories\n",
    "        if len(list(df[col].unique())) <= 2:\n",
    "            label_enc.fit(df[col])\n",
    "            df[col] = label_enc.transform(df[col])\n",
    "            le_count += 1\n",
    "            \n",
    "print ('{} variable/s are label encoded'.format(le_count))"
   ]
  },
  {
   "cell_type": "code",
   "execution_count": 21,
   "metadata": {},
   "outputs": [
    {
     "name": "stdout",
     "output_type": "stream",
     "text": [
      "The shape of dataset after One hot encoding: (356255, 256)\n"
     ]
    }
   ],
   "source": [
    "# One Hot Encoding \n",
    "categorical_columns = [col for col in df.columns if df[col].dtype == 'object']\n",
    "df = pd.get_dummies(df, columns= categorical_columns, dummy_na= True)\n",
    "print ('The shape of dataset after One hot encoding: {}'.format(df.shape))"
   ]
  },
  {
   "cell_type": "markdown",
   "metadata": {},
   "source": [
    "### Feature Engineering - Train and Test"
   ]
  },
  {
   "cell_type": "code",
   "execution_count": 22,
   "metadata": {
    "_uuid": "9ace9e56fc96b1c8522e83b40907a6e4017795f3"
   },
   "outputs": [],
   "source": [
    "# Column to represent Days Employed percent in his/her life\n",
    "df['DAYS_EMPLOYED_PERC'] = df['DAYS_EMPLOYED'] / df['DAYS_BIRTH']\n",
    "\n",
    "# Column to represent Credit Income Percent\n",
    "df['CREDIT_INCOME_PERCENT'] = df['AMT_CREDIT'] / df['AMT_INCOME_TOTAL']\n",
    "\n",
    "# Column to represent Income per person based on the numerosity of the family\n",
    "df['INCOME_PER_PERSON'] = df['AMT_INCOME_TOTAL'] / df['CNT_FAM_MEMBERS']\n",
    "\n",
    "# Column to represent Annuity Income percent\n",
    "df['ANNUITY_INCOME_PERC'] = df['AMT_ANNUITY'] / df['AMT_INCOME_TOTAL']\n",
    "\n",
    "# Column to represent Credit Term\n",
    "df['CREDIT_TERM'] = df['AMT_CREDIT'] / df['AMT_ANNUITY'] "
   ]
  },
  {
   "cell_type": "markdown",
   "metadata": {
    "_uuid": "0611d7b5506df130bd520468997ea88ad54b578a",
    "collapsed": true
   },
   "source": [
    "## 4.2 Bureau and Bureau_balance"
   ]
  },
  {
   "cell_type": "markdown",
   "metadata": {},
   "source": [
    "### One Hot Encoding"
   ]
  },
  {
   "cell_type": "code",
   "execution_count": 23,
   "metadata": {
    "_uuid": "eeb10caba8b02429f349a9b27a5a1951280ef0bc"
   },
   "outputs": [],
   "source": [
    "bureau = one_hot_encoding(bureau)\n",
    "bureau_balance = one_hot_encoding(bureau_balance)"
   ]
  },
  {
   "cell_type": "markdown",
   "metadata": {
    "_uuid": "011378235f3d2f9c877ac810b25550f09bc00ef8"
   },
   "source": [
    "### Feature Engineering - Bureau and Bureau_balance"
   ]
  },
  {
   "cell_type": "code",
   "execution_count": 24,
   "metadata": {
    "_uuid": "fa9d9b0ed7d82e2d697983043de1445f9d24eb0f"
   },
   "outputs": [],
   "source": [
    "# Average Values for all bureau features \n",
    "bureau_avg = bureau.groupby('SK_ID_CURR').mean()\n",
    "bureau_avg['buro_count'] = bureau[['SK_ID_BUREAU','SK_ID_CURR']].groupby('SK_ID_CURR').count()['SK_ID_BUREAU']\n",
    "bureau_avg.columns = ['b_' + f_ for f_ in bureau_avg.columns]\n",
    "\n",
    "# Merge datasets into one single dataframe --> df\n",
    "df = df.merge(right=bureau_avg.reset_index(), how='left', on='SK_ID_CURR')"
   ]
  },
  {
   "cell_type": "markdown",
   "metadata": {
    "_uuid": "5402dc0e5b7acf9a177b94249ee186b0205b4e90"
   },
   "source": [
    "## 4.3 Previous Application"
   ]
  },
  {
   "cell_type": "markdown",
   "metadata": {
    "_uuid": "c8b307f4c5aae26dfcf5550c7c2d34f72befcc6e"
   },
   "source": [
    "### One Hot Encoding"
   ]
  },
  {
   "cell_type": "code",
   "execution_count": 25,
   "metadata": {
    "_uuid": "765cd8fd11dc5f63c9235031439531b234c9a1c8"
   },
   "outputs": [],
   "source": [
    "previous_app = one_hot_encoding(previous_app)"
   ]
  },
  {
   "cell_type": "markdown",
   "metadata": {
    "_uuid": "618ca2846f5feb87574863c80ec443fc721f4179"
   },
   "source": [
    "### Feature Engineering - Previous Application"
   ]
  },
  {
   "cell_type": "code",
   "execution_count": 26,
   "metadata": {
    "_uuid": "9e36a67a4a872bb1e6fe1588a862e5321f84b596"
   },
   "outputs": [],
   "source": [
    "# Average values for all other features in previous applications\n",
    "prev_apps_avg = previous_app.groupby('SK_ID_CURR').mean()\n",
    "prev_apps_avg.columns = ['p_' + col for col in prev_apps_avg.columns]\n",
    "\n",
    "# Merge datasets into one single dataframe --> df\n",
    "df = df.merge(right=prev_apps_avg.reset_index(), how='left', on='SK_ID_CURR')"
   ]
  },
  {
   "cell_type": "markdown",
   "metadata": {
    "_uuid": "4382aa7739dc6c27137bc8b13794741cb20cd537"
   },
   "source": [
    "## 4.4 POS Cash Balance"
   ]
  },
  {
   "cell_type": "markdown",
   "metadata": {
    "_uuid": "d220d6e10f1716a6ce1bb2bf0ea618e34b6272e0"
   },
   "source": [
    "### One Hot Encoding"
   ]
  },
  {
   "cell_type": "code",
   "execution_count": 27,
   "metadata": {
    "_uuid": "8765ad462f46a345e3dde9efc33d9cb97e2da6fc"
   },
   "outputs": [],
   "source": [
    "pos = one_hot_encoding(pos)"
   ]
  },
  {
   "cell_type": "markdown",
   "metadata": {
    "_uuid": "a886fd19e34aa4e2bed9eabce2aa4ffa055c5ba7"
   },
   "source": [
    "### Feature Engineering - POS Cash Balance"
   ]
  },
  {
   "cell_type": "code",
   "execution_count": 28,
   "metadata": {
    "_uuid": "69f06ba34abe1b9df55847eeaf8b27192c6799e1"
   },
   "outputs": [],
   "source": [
    "# Count the number of pos cash for a given ID\n",
    "pos_count = pos[['SK_ID_CURR', 'SK_ID_PREV']].groupby('SK_ID_CURR').count()\n",
    "pos['SK_ID_PREV'] = pos['SK_ID_CURR'].map(pos_count['SK_ID_PREV'])\n",
    "\n",
    "# Average Values for all other variables in pos cash\n",
    "pos_avg = pos.groupby('SK_ID_CURR').mean()\n",
    "\n",
    "# Merge datasets into one single dataframe --> df\n",
    "df = df.merge(right=pos_avg.reset_index(), how='left', on='SK_ID_CURR')"
   ]
  },
  {
   "cell_type": "markdown",
   "metadata": {
    "_uuid": "f8e38e768741a7ed0ecae45b0256a226bd430dea"
   },
   "source": [
    "## 4.5 Installment Payments"
   ]
  },
  {
   "cell_type": "markdown",
   "metadata": {
    "_uuid": "c091f246e3e64673c5e8d533dce9a9ca13523086"
   },
   "source": [
    "### One Hot Encoding"
   ]
  },
  {
   "cell_type": "code",
   "execution_count": 29,
   "metadata": {
    "_uuid": "3b57322728a6a17e6c099b56db6fcd7556b32fda"
   },
   "outputs": [],
   "source": [
    "installments_payments = one_hot_encoding(installments_payments)"
   ]
  },
  {
   "cell_type": "markdown",
   "metadata": {
    "_uuid": "98e28fab652cd47c8ad9ef14f4ac889e078c747d"
   },
   "source": [
    "### Feature Engineering - Installment Payments"
   ]
  },
  {
   "cell_type": "code",
   "execution_count": 30,
   "metadata": {
    "_uuid": "bafc150100853613b8e19eb4a84c16bd3fb33727"
   },
   "outputs": [],
   "source": [
    "# Percentage and difference paid in each installment (amount paid and installment value)\n",
    "installments_payments['PAYMENT_PERC'] = installments_payments['AMT_PAYMENT'] / installments_payments['AMT_INSTALMENT']\n",
    "installments_payments['PAYMENT_DIFF'] = installments_payments['AMT_INSTALMENT'] - installments_payments['AMT_PAYMENT']\n",
    "\n",
    "# Days past due and days before due (no negative values)\n",
    "installments_payments['DPD'] = installments_payments['DAYS_ENTRY_PAYMENT'] - installments_payments['DAYS_INSTALMENT']\n",
    "installments_payments['DBD'] = installments_payments['DAYS_INSTALMENT'] - installments_payments['DAYS_ENTRY_PAYMENT']\n",
    "\n",
    "# count the number of previous installments\n",
    "cnt_inst = installments_payments[['SK_ID_CURR', 'SK_ID_PREV']].groupby('SK_ID_CURR').count()\n",
    "installments_payments['SK_ID_PREV'] = installments_payments['SK_ID_CURR'].map(cnt_inst['SK_ID_PREV'])\n",
    "\n",
    "# Average values for all other variables in installments payments\n",
    "avg_inst = installments_payments.groupby('SK_ID_CURR').mean()\n",
    "avg_inst.columns = ['i_' + f_ for f_ in avg_inst.columns]\n",
    "\n",
    "# Merge datasets into one single dataframe --> df\n",
    "df = df.merge(right=avg_inst.reset_index(), how='left', on='SK_ID_CURR')"
   ]
  },
  {
   "cell_type": "markdown",
   "metadata": {
    "_uuid": "9249c4627c0dd74da455bab7683087966e49641d"
   },
   "source": [
    "## 4.6 Exploration of Credit Card"
   ]
  },
  {
   "cell_type": "markdown",
   "metadata": {
    "_uuid": "ba4def079c1aac85c54ca57ed9adc82241fa1fda"
   },
   "source": [
    "### One Hot Encoding"
   ]
  },
  {
   "cell_type": "code",
   "execution_count": 31,
   "metadata": {
    "_uuid": "56389d553951ca7ea8d491f85d1f7d9eefac9cff"
   },
   "outputs": [],
   "source": [
    "cc = one_hot_encoding(cc)"
   ]
  },
  {
   "cell_type": "markdown",
   "metadata": {
    "_uuid": "7ece39f68f44cfcf967da377b425491f6324290b"
   },
   "source": [
    "### Feature Engineering - Credit Card"
   ]
  },
  {
   "cell_type": "code",
   "execution_count": 32,
   "metadata": {
    "_uuid": "bb64f15c35af67d291a3e37cd76933f5ee5d8f17"
   },
   "outputs": [],
   "source": [
    "# count the number of previous applications for a given ID\n",
    "nb_prevs = cc[['SK_ID_CURR', 'SK_ID_PREV']].groupby('SK_ID_CURR').count()\n",
    "cc['SK_ID_PREV'] = cc['SK_ID_CURR'].map(nb_prevs['SK_ID_PREV'])\n",
    "\n",
    "# average of all other columns \n",
    "avg_cc_bal = cc.groupby('SK_ID_CURR').mean()\n",
    "avg_cc_bal.columns = ['cc_bal_' + f_ for f_ in avg_cc_bal.columns]\n",
    "\n",
    "# Merge datasets into one single dataframe --> df\n",
    "df = df.merge(right=avg_cc_bal.reset_index(), how='left', on='SK_ID_CURR')"
   ]
  },
  {
   "cell_type": "markdown",
   "metadata": {},
   "source": [
    "------\n"
   ]
  },
  {
   "cell_type": "markdown",
   "metadata": {
    "_uuid": "ca0e83f7af3872c844713165309c98c537183486"
   },
   "source": [
    "# 5. LightGBM"
   ]
  },
  {
   "cell_type": "markdown",
   "metadata": {},
   "source": [
    "To understand and set-up the LightGMB algorithm we used this article: <br> https://medium.com/@pushkarmandot/https-medium-com-pushkarmandot-what-is-lightgbm-how-to-implement-it-how-to-fine-tune-the-parameters-60347819b7fc <br> (as well as other material on the internet)"
   ]
  },
  {
   "cell_type": "markdown",
   "metadata": {},
   "source": [
    "### Why did we use LightGBM?"
   ]
  },
  {
   "cell_type": "markdown",
   "metadata": {},
   "source": [
    " * It is a gradient boosting framework that uses **tree based learning algorithm**.\n",
    " * It' an algorithm that uses gradient boosting framework and it's a tree based learning algorithm. It grows tree vertically while other algorithm grows trees horizontally.\n",
    " * It can handle the **large size of data** and takes **lower memory to run.** and it's **fast**!\n",
    " * This is popular because it focuses on **accuracy of results.**"
   ]
  },
  {
   "cell_type": "markdown",
   "metadata": {},
   "source": [
    "\n",
    "The only complicated thing about the algorithm is **parameter tuning.**<br>\n",
    "\n",
    "Lets learn about some of the parameters we used in our model :\n",
    "\n",
    "* **boosting_type** by using **gbdt** we have a good trade-off between speed and AUC score<br><br>\n",
    "\n",
    "* **max_depth**: This indicates how deep the built tree can be. The deeper the tree, the more splits it has and it captures more information about how the data. On the down side, the more deep the tree is and the more probability we have of overfitting our data (**our case: 7**)<br><br>\n",
    "\n",
    "* **learning_rate**: learning rate shrinks the contribution of each tree by learning_rate. <br>Large learning rates are usually associated to overfitting (**our case: 0.01**)<br><br>\n",
    "\n",
    "* **n_estimators**: represents the number of trees in the forest. <br>Usually the higher the number of trees the better to learn the data. However, adding a lot of trees can slow down the training process (**our case: 2000**)<br><br>\n",
    "\n",
    "* **class_weight**: It's how much importance we attribute to the each class (**our case: balanced**)<br><br>\n",
    "\n",
    "* **subsample**: The fraction of observations to be selected for each tree. Selection is done by random sampling.<br>\n",
    "Values slightly less than 1 make the model robust by reducing the variance (**our case: 7**)<br><br>\n",
    "\n",
    "* **n_jobs**: The number of jobs to run in parallel for both fit and predict. When we set this parameter to -1 it means we are using all the processors avaiable: (**our case :-1**)"
   ]
  },
  {
   "cell_type": "markdown",
   "metadata": {
    "_uuid": "ebaba9834da56d250b2519c3af9a807f602c9f25"
   },
   "source": [
    "## 5.1 Prepare Final Train and Test data"
   ]
  },
  {
   "cell_type": "code",
   "execution_count": 33,
   "metadata": {
    "_uuid": "e831191319f489018f28a40ac116f30bdf764775"
   },
   "outputs": [
    {
     "name": "stdout",
     "output_type": "stream",
     "text": [
      "Starting LightGBM. \n",
      "Train shape: (307511, 515), test shape: (48744, 515)\n"
     ]
    }
   ],
   "source": [
    "# Divide in training/test data\n",
    "train_df = df[df['TARGET'].notnull()]\n",
    "test_df = df[df['TARGET'].isnull()]\n",
    "print(\"Starting LightGBM. \\nTrain shape: {}, test shape: {}\".format(train_df.shape, test_df.shape))"
   ]
  },
  {
   "cell_type": "markdown",
   "metadata": {
    "_uuid": "3d090c8dba1cdb9783eb020a7625d299cd40fc8c"
   },
   "source": [
    "## 5.2 Cross Validation Model"
   ]
  },
  {
   "cell_type": "markdown",
   "metadata": {},
   "source": [
    "**K-Fold Cross Validation**: To reduce variability, in most machine learning methods multiple rounds of cross-validation are performed using different partitions, and the validation are averaged at the end. This method is known as k-fold cross validation. In essence it splits it into K folds, trains on K-1 and then tests on the left-out.\n",
    "\n",
    "Increase the `n_splits` to make better prediction. But it may increase the time of processing."
   ]
  },
  {
   "cell_type": "code",
   "execution_count": 34,
   "metadata": {
    "_uuid": "72d9d6fb37fbd90c0f116a315aba6eefc4c3ea7b"
   },
   "outputs": [],
   "source": [
    "folds = KFold(n_splits=2, shuffle=True, random_state=47)"
   ]
  },
  {
   "cell_type": "code",
   "execution_count": 35,
   "metadata": {
    "_uuid": "8333f124dcde94d2fe874909075fd1a251a5595b"
   },
   "outputs": [],
   "source": [
    "# Create arrays and dataframes to store results\n",
    "oof_preds = np.zeros(train_df.shape[0])\n",
    "sub_preds = np.zeros(test_df.shape[0])\n",
    "ft_significance = pd.DataFrame()\n",
    "# we don't take into consideration the id's for each dataset that we previously merged\n",
    "features = [f for f in train_df.columns if f not in ['TARGET','SK_ID_CURR','SK_ID_BUREAU','SK_ID_PREV','index']] "
   ]
  },
  {
   "cell_type": "markdown",
   "metadata": {
    "_uuid": "8ce1f53eded9d9a461396351b52d55900944264d"
   },
   "source": [
    "## 5.3 Fitting the model and Predicting"
   ]
  },
  {
   "cell_type": "code",
   "execution_count": 36,
   "metadata": {
    "_uuid": "4f76c5f8f54bee6c0cb04f6220edbf750034a8c9",
    "scrolled": false
   },
   "outputs": [
    {
     "name": "stdout",
     "output_type": "stream",
     "text": [
      "Training until validation scores don't improve for 100 rounds\n",
      "[200]\ttrain's auc: 0.779156\ttrain's binary_logloss: 0.582966\tvalid's auc: 0.754077\tvalid's binary_logloss: 0.587838\n",
      "[400]\ttrain's auc: 0.806546\ttrain's binary_logloss: 0.549088\tvalid's auc: 0.769749\tvalid's binary_logloss: 0.55893\n",
      "[600]\ttrain's auc: 0.823254\ttrain's binary_logloss: 0.528432\tvalid's auc: 0.775359\tvalid's binary_logloss: 0.543354\n",
      "[800]\ttrain's auc: 0.836292\ttrain's binary_logloss: 0.512705\tvalid's auc: 0.778107\tvalid's binary_logloss: 0.532309\n",
      "[1000]\ttrain's auc: 0.84752\ttrain's binary_logloss: 0.499618\tvalid's auc: 0.779305\tvalid's binary_logloss: 0.5236\n",
      "[1200]\ttrain's auc: 0.857554\ttrain's binary_logloss: 0.488018\tvalid's auc: 0.779827\tvalid's binary_logloss: 0.516099\n",
      "[1400]\ttrain's auc: 0.866306\ttrain's binary_logloss: 0.47779\tvalid's auc: 0.780008\tvalid's binary_logloss: 0.509449\n",
      "Early stopping, best iteration is:\n",
      "[1389]\ttrain's auc: 0.865837\ttrain's binary_logloss: 0.478337\tvalid's auc: 0.780034\tvalid's binary_logloss: 0.509789\n",
      "Training until validation scores don't improve for 100 rounds\n",
      "[200]\ttrain's auc: 0.777986\ttrain's binary_logloss: 0.583823\tvalid's auc: 0.754665\tvalid's binary_logloss: 0.590493\n",
      "[400]\ttrain's auc: 0.805357\ttrain's binary_logloss: 0.550056\tvalid's auc: 0.770544\tvalid's binary_logloss: 0.562436\n",
      "[600]\ttrain's auc: 0.822509\ttrain's binary_logloss: 0.529268\tvalid's auc: 0.776589\tvalid's binary_logloss: 0.546917\n",
      "[800]\ttrain's auc: 0.835616\ttrain's binary_logloss: 0.513484\tvalid's auc: 0.779248\tvalid's binary_logloss: 0.536123\n",
      "[1000]\ttrain's auc: 0.846398\ttrain's binary_logloss: 0.500777\tvalid's auc: 0.780611\tvalid's binary_logloss: 0.527639\n",
      "[1200]\ttrain's auc: 0.856025\ttrain's binary_logloss: 0.489628\tvalid's auc: 0.781162\tvalid's binary_logloss: 0.520364\n",
      "[1400]\ttrain's auc: 0.86477\ttrain's binary_logloss: 0.479594\tvalid's auc: 0.781455\tvalid's binary_logloss: 0.513754\n",
      "Early stopping, best iteration is:\n",
      "[1391]\ttrain's auc: 0.864436\ttrain's binary_logloss: 0.479989\tvalid's auc: 0.781464\tvalid's binary_logloss: 0.514011\n",
      "Full AUC score 0.780708\n"
     ]
    }
   ],
   "source": [
    "# Iterate through each fold\n",
    "for train_index, valid_index in folds.split(train_df[features],train_df['TARGET']):\n",
    "        \n",
    "    # Training data for the fold\n",
    "    train_features, train_labels = train_df[features].iloc[train_index], train_df['TARGET'].iloc[train_index]\n",
    "    \n",
    "    # Validation data for the fold\n",
    "    valid_features, valid_labels = train_df[features].iloc[valid_index], train_df['TARGET'].iloc[valid_index]\n",
    "        \n",
    "    # Create the model\n",
    "    model = LGBMClassifier(boosting_type='gbdt', \n",
    "                           max_depth=7, \n",
    "                           learning_rate=0.01, \n",
    "                           n_estimators= 2000, \n",
    "                           class_weight='balanced', \n",
    "                           subsample=0.8, n_jobs=-1)\n",
    "    \n",
    "        \n",
    "    # Train the model\n",
    "    model.fit(train_features, train_labels, eval_metric = 'auc',\n",
    "                eval_set = [(valid_features, valid_labels), (train_features, train_labels)],\n",
    "                eval_names = ['valid', 'train'],\n",
    "                early_stopping_rounds = 100, verbose = 200)\n",
    "    \n",
    "    oof_preds[valid_index] = model.predict_proba(valid_features, num_iteration=model.best_iteration_)[:, 1]\n",
    "    sub_preds += model.predict_proba(test_df[features], num_iteration=model.best_iteration_)[:, 1] / folds.n_splits\n",
    "\n",
    "    fold_significance = pd.DataFrame()\n",
    "    fold_significance[\"feature\"] = features\n",
    "    fold_significance[\"importance\"] = model.feature_importances_\n",
    "    ft_significance = pd.concat([ft_significance, fold_significance], axis=0)\n",
    "\n",
    "print('Full AUC score %.6f' % roc_auc_score(train_df['TARGET'], oof_preds))"
   ]
  },
  {
   "cell_type": "code",
   "execution_count": 37,
   "metadata": {},
   "outputs": [],
   "source": [
    "imp = ft_significance.sort_values('importance', ascending = False)"
   ]
  },
  {
   "cell_type": "code",
   "execution_count": 38,
   "metadata": {},
   "outputs": [],
   "source": [
    "imp = imp.head(20)"
   ]
  },
  {
   "cell_type": "code",
   "execution_count": 39,
   "metadata": {},
   "outputs": [
    {
     "data": {
      "text/plain": [
       "<matplotlib.axes._subplots.AxesSubplot at 0x18800c77e80>"
      ]
     },
     "execution_count": 39,
     "metadata": {},
     "output_type": "execute_result"
    },
    {
     "data": {
      "image/png": "[encoded data removed]",
      "text/plain": [
       "<Figure size 432x288 with 1 Axes>"
      ]
     },
     "metadata": {
      "needs_background": "light"
     },
     "output_type": "display_data"
    }
   ],
   "source": [
    "# Plot the most important feautures\n",
    "sns.set_color_codes(\"pastel\")\n",
    "sns.barplot(x=\"importance\", y=\"feature\", data=imp,\n",
    "             palette = (sns.color_palette(\"husl\", 8)))"
   ]
  },
  {
   "cell_type": "markdown",
   "metadata": {},
   "source": [
    "------\n"
   ]
  },
  {
   "cell_type": "markdown",
   "metadata": {
    "_uuid": "384c0148e87ca10f93a3b5bc56aac1ba27c3b8ac"
   },
   "source": [
    "# 6. Submission"
   ]
  },
  {
   "cell_type": "code",
   "execution_count": 40,
   "metadata": {
    "_uuid": "4cffc8ba362bb8486ab9d957ea5958031c8cba6c"
   },
   "outputs": [],
   "source": [
    "test_df['TARGET'] = sub_preds\n",
    "test_df[['SK_ID_CURR', 'TARGET']].to_csv('submission.csv', index= False)"
   ]
  }
 ],
 "metadata": {
  "kernelspec": {
   "display_name": "Python 3",
   "language": "python",
   "name": "python3"
  },
  "language_info": {
   "codemirror_mode": {
    "name": "ipython",
    "version": 3
   },
   "file_extension": ".py",
   "mimetype": "text/x-python",
   "name": "python",
   "nbconvert_exporter": "python",
   "pygments_lexer": "ipython3",
   "version": "3.7.6"
  }
 },
 "nbformat": 4,
 "nbformat_minor": 1
}
